{
 "cells": [
  {
   "attachments": {},
   "cell_type": "markdown",
   "metadata": {},
   "source": [
    "# 0. Configuration"
   ]
  },
  {
   "cell_type": "code",
   "execution_count": 3,
   "metadata": {},
   "outputs": [],
   "source": [
    "# links to shared data MovieLens\n",
    "# source on kaggle: https://www.kaggle.com/code/quangnhatbui/movie-recommender/data\n",
    "INTERACTIONS_PATH = 'https://drive.google.com/file/d/1i6kmeJIUNJjqAa0vAvztFSDN3BFz9x1i/view?usp=sharing'\n",
    "ITEMS_METADATA_PATH = 'https://drive.google.com/file/d/12a80lS3vXQOl6i6ENgz-WqWw3Wms0nqB/view?usp=share_link'\n",
    "USERS_DATA_PATH = 'https://drive.google.com/file/d/1MwPaye0cRi53czLqCnH0bOuvIhOeNlAx/view?usp=share_link'"
   ]
  },
  {
   "attachments": {},
   "cell_type": "markdown",
   "metadata": {},
   "source": [
    "# 1. Modules and functions"
   ]
  },
  {
   "cell_type": "code",
   "execution_count": 4,
   "metadata": {},
   "outputs": [
    {
     "name": "stderr",
     "output_type": "stream",
     "text": [
      "LightFM was compiled without OpenMP support. Only a single thread will be used.\n"
     ]
    }
   ],
   "source": [
    "# just to make it available to download w/o SSL verification\n",
    "import ssl\n",
    "ssl._create_default_https_context = ssl._create_unverified_context\n",
    "\n",
    "import shap\n",
    "import numpy as np\n",
    "import pandas as pd\n",
    "import datetime as dt\n",
    "\n",
    "from sklearn.utils import shuffle\n",
    "from sklearn.model_selection import train_test_split\n",
    "\n",
    "from lightfm.data import Dataset\n",
    "from lightfm import LightFM\n",
    "\n",
    "from catboost import CatBoostClassifier\n",
    "\n",
    "from tqdm import tqdm\n",
    "import warnings\n",
    "# warnings.filterwarnings('ignore')\n",
    "\n",
    "# pd.set_option('display.float_format', lambda x: '%.3f' % x)"
   ]
  },
  {
   "attachments": {},
   "cell_type": "markdown",
   "metadata": {},
   "source": [
    "## 1. 1. Helper functions to avoid copy paste"
   ]
  },
  {
   "cell_type": "code",
   "execution_count": 5,
   "metadata": {},
   "outputs": [],
   "source": [
    "def read_csv_from_gdrive(url):\n",
    "    \"\"\"\n",
    "    gets csv data from a given url (taken from file -> share -> copy link)\n",
    "    :url: example https://drive.google.com/file/d/1BlZfCLLs5A13tbNSJZ1GPkHLWQOnPlE4/view?usp=share_link\n",
    "    \"\"\"\n",
    "    file_id = url.split('/')[-2]\n",
    "    file_path = 'https://drive.google.com/uc?export=download&id=' + file_id\n",
    "    data = pd.read_csv(file_path)\n",
    "\n",
    "    return data"
   ]
  },
  {
   "attachments": {},
   "cell_type": "markdown",
   "metadata": {},
   "source": [
    "# 2. Main"
   ]
  },
  {
   "attachments": {},
   "cell_type": "markdown",
   "metadata": {},
   "source": [
    "## 2.1. Load Data"
   ]
  },
  {
   "attachments": {},
   "cell_type": "markdown",
   "metadata": {},
   "source": [
    "`interactions` dataset shows list of movies that users watched, along with given `total_dur` in seconds and `watched_pct` proportion:"
   ]
  },
  {
   "cell_type": "code",
   "execution_count": 13,
   "metadata": {},
   "outputs": [
    {
     "data": {
      "text/html": [
       "<div>\n",
       "<style scoped>\n",
       "    .dataframe tbody tr th:only-of-type {\n",
       "        vertical-align: middle;\n",
       "    }\n",
       "\n",
       "    .dataframe tbody tr th {\n",
       "        vertical-align: top;\n",
       "    }\n",
       "\n",
       "    .dataframe thead th {\n",
       "        text-align: right;\n",
       "    }\n",
       "</style>\n",
       "<table border=\"1\" class=\"dataframe\">\n",
       "  <thead>\n",
       "    <tr style=\"text-align: right;\">\n",
       "      <th></th>\n",
       "      <th>user_id</th>\n",
       "      <th>item_id</th>\n",
       "      <th>last_watch_dt</th>\n",
       "      <th>total_dur</th>\n",
       "      <th>watched_pct</th>\n",
       "    </tr>\n",
       "  </thead>\n",
       "  <tbody>\n",
       "    <tr>\n",
       "      <th>0</th>\n",
       "      <td>176549</td>\n",
       "      <td>9506</td>\n",
       "      <td>2021-05-11</td>\n",
       "      <td>4250</td>\n",
       "      <td>72.0</td>\n",
       "    </tr>\n",
       "    <tr>\n",
       "      <th>1</th>\n",
       "      <td>699317</td>\n",
       "      <td>1659</td>\n",
       "      <td>2021-05-29</td>\n",
       "      <td>8317</td>\n",
       "      <td>100.0</td>\n",
       "    </tr>\n",
       "    <tr>\n",
       "      <th>2</th>\n",
       "      <td>656683</td>\n",
       "      <td>7107</td>\n",
       "      <td>2021-05-09</td>\n",
       "      <td>10</td>\n",
       "      <td>0.0</td>\n",
       "    </tr>\n",
       "    <tr>\n",
       "      <th>3</th>\n",
       "      <td>864613</td>\n",
       "      <td>7638</td>\n",
       "      <td>2021-07-05</td>\n",
       "      <td>14483</td>\n",
       "      <td>100.0</td>\n",
       "    </tr>\n",
       "    <tr>\n",
       "      <th>4</th>\n",
       "      <td>964868</td>\n",
       "      <td>9506</td>\n",
       "      <td>2021-04-30</td>\n",
       "      <td>6725</td>\n",
       "      <td>100.0</td>\n",
       "    </tr>\n",
       "  </tbody>\n",
       "</table>\n",
       "</div>"
      ],
      "text/plain": [
       "   user_id  item_id last_watch_dt  total_dur  watched_pct\n",
       "0   176549     9506    2021-05-11       4250         72.0\n",
       "1   699317     1659    2021-05-29       8317        100.0\n",
       "2   656683     7107    2021-05-09         10          0.0\n",
       "3   864613     7638    2021-07-05      14483        100.0\n",
       "4   964868     9506    2021-04-30       6725        100.0"
      ]
     },
     "execution_count": 13,
     "metadata": {},
     "output_type": "execute_result"
    }
   ],
   "source": [
    "# interactions data\n",
    "interactions = pd.read_parquet('/Users/vydolga/Downloads/interactions.parquet', engine = 'pyarrow')\n",
    "interactions.head()"
   ]
  },
  {
   "attachments": {},
   "cell_type": "markdown",
   "metadata": {},
   "source": [
    "`movies_metadata` dataset shows the list of movies existing on OKKO platform:"
   ]
  },
  {
   "cell_type": "code",
   "execution_count": 14,
   "metadata": {},
   "outputs": [
    {
     "data": {
      "text/html": [
       "<div>\n",
       "<style scoped>\n",
       "    .dataframe tbody tr th:only-of-type {\n",
       "        vertical-align: middle;\n",
       "    }\n",
       "\n",
       "    .dataframe tbody tr th {\n",
       "        vertical-align: top;\n",
       "    }\n",
       "\n",
       "    .dataframe thead th {\n",
       "        text-align: right;\n",
       "    }\n",
       "</style>\n",
       "<table border=\"1\" class=\"dataframe\">\n",
       "  <thead>\n",
       "    <tr style=\"text-align: right;\">\n",
       "      <th></th>\n",
       "      <th>item_id</th>\n",
       "      <th>content_type</th>\n",
       "      <th>title</th>\n",
       "      <th>title_orig</th>\n",
       "      <th>release_year</th>\n",
       "      <th>genres</th>\n",
       "      <th>countries</th>\n",
       "      <th>for_kids</th>\n",
       "      <th>age_rating</th>\n",
       "      <th>studios</th>\n",
       "      <th>directors</th>\n",
       "      <th>actors</th>\n",
       "      <th>description</th>\n",
       "      <th>keywords</th>\n",
       "    </tr>\n",
       "  </thead>\n",
       "  <tbody>\n",
       "    <tr>\n",
       "      <th>0</th>\n",
       "      <td>10711</td>\n",
       "      <td>film</td>\n",
       "      <td>Поговори с ней</td>\n",
       "      <td>Hable con ella</td>\n",
       "      <td>2002.0</td>\n",
       "      <td>драмы, зарубежные, детективы, мелодрамы</td>\n",
       "      <td>Испания</td>\n",
       "      <td>NaN</td>\n",
       "      <td>16.0</td>\n",
       "      <td>NaN</td>\n",
       "      <td>Педро Альмодовар</td>\n",
       "      <td>Адольфо Фернандес, Ана Фернандес, Дарио Гранди...</td>\n",
       "      <td>Мелодрама легендарного Педро Альмодовара «Пого...</td>\n",
       "      <td>Поговори, ней, 2002, Испания, друзья, любовь, ...</td>\n",
       "    </tr>\n",
       "    <tr>\n",
       "      <th>1</th>\n",
       "      <td>2508</td>\n",
       "      <td>film</td>\n",
       "      <td>Голые перцы</td>\n",
       "      <td>Search Party</td>\n",
       "      <td>2014.0</td>\n",
       "      <td>зарубежные, приключения, комедии</td>\n",
       "      <td>США</td>\n",
       "      <td>NaN</td>\n",
       "      <td>16.0</td>\n",
       "      <td>NaN</td>\n",
       "      <td>Скот Армстронг</td>\n",
       "      <td>Адам Палли, Брайан Хаски, Дж.Б. Смув, Джейсон ...</td>\n",
       "      <td>Уморительная современная комедия на популярную...</td>\n",
       "      <td>Голые, перцы, 2014, США, друзья, свадьбы, прео...</td>\n",
       "    </tr>\n",
       "    <tr>\n",
       "      <th>2</th>\n",
       "      <td>10716</td>\n",
       "      <td>film</td>\n",
       "      <td>Тактическая сила</td>\n",
       "      <td>Tactical Force</td>\n",
       "      <td>2011.0</td>\n",
       "      <td>криминал, зарубежные, триллеры, боевики, комедии</td>\n",
       "      <td>Канада</td>\n",
       "      <td>NaN</td>\n",
       "      <td>16.0</td>\n",
       "      <td>NaN</td>\n",
       "      <td>Адам П. Калтраро</td>\n",
       "      <td>Адриан Холмс, Даррен Шалави, Джерри Вассерман,...</td>\n",
       "      <td>Профессиональный рестлер Стив Остин («Все или ...</td>\n",
       "      <td>Тактическая, сила, 2011, Канада, бандиты, ганг...</td>\n",
       "    </tr>\n",
       "  </tbody>\n",
       "</table>\n",
       "</div>"
      ],
      "text/plain": [
       "   item_id content_type             title      title_orig  release_year  \\\n",
       "0    10711         film    Поговори с ней  Hable con ella        2002.0   \n",
       "1     2508         film       Голые перцы    Search Party        2014.0   \n",
       "2    10716         film  Тактическая сила  Tactical Force        2011.0   \n",
       "\n",
       "                                             genres countries  for_kids  \\\n",
       "0           драмы, зарубежные, детективы, мелодрамы   Испания       NaN   \n",
       "1                  зарубежные, приключения, комедии       США       NaN   \n",
       "2  криминал, зарубежные, триллеры, боевики, комедии    Канада       NaN   \n",
       "\n",
       "   age_rating studios         directors  \\\n",
       "0        16.0     NaN  Педро Альмодовар   \n",
       "1        16.0     NaN    Скот Армстронг   \n",
       "2        16.0     NaN  Адам П. Калтраро   \n",
       "\n",
       "                                              actors  \\\n",
       "0  Адольфо Фернандес, Ана Фернандес, Дарио Гранди...   \n",
       "1  Адам Палли, Брайан Хаски, Дж.Б. Смув, Джейсон ...   \n",
       "2  Адриан Холмс, Даррен Шалави, Джерри Вассерман,...   \n",
       "\n",
       "                                         description  \\\n",
       "0  Мелодрама легендарного Педро Альмодовара «Пого...   \n",
       "1  Уморительная современная комедия на популярную...   \n",
       "2  Профессиональный рестлер Стив Остин («Все или ...   \n",
       "\n",
       "                                            keywords  \n",
       "0  Поговори, ней, 2002, Испания, друзья, любовь, ...  \n",
       "1  Голые, перцы, 2014, США, друзья, свадьбы, прео...  \n",
       "2  Тактическая, сила, 2011, Канада, бандиты, ганг...  "
      ]
     },
     "execution_count": 14,
     "metadata": {},
     "output_type": "execute_result"
    }
   ],
   "source": [
    "# information about films etc\n",
    "movies_metadata = read_csv_from_gdrive(ITEMS_METADATA_PATH)\n",
    "movies_metadata.head(3)"
   ]
  },
  {
   "cell_type": "code",
   "execution_count": 15,
   "metadata": {},
   "outputs": [
    {
     "data": {
      "text/html": [
       "<div>\n",
       "<style scoped>\n",
       "    .dataframe tbody tr th:only-of-type {\n",
       "        vertical-align: middle;\n",
       "    }\n",
       "\n",
       "    .dataframe tbody tr th {\n",
       "        vertical-align: top;\n",
       "    }\n",
       "\n",
       "    .dataframe thead th {\n",
       "        text-align: right;\n",
       "    }\n",
       "</style>\n",
       "<table border=\"1\" class=\"dataframe\">\n",
       "  <thead>\n",
       "    <tr style=\"text-align: right;\">\n",
       "      <th></th>\n",
       "      <th>user_id</th>\n",
       "      <th>age</th>\n",
       "      <th>income</th>\n",
       "      <th>sex</th>\n",
       "      <th>kids_flg</th>\n",
       "    </tr>\n",
       "  </thead>\n",
       "  <tbody>\n",
       "    <tr>\n",
       "      <th>0</th>\n",
       "      <td>973171</td>\n",
       "      <td>age_25_34</td>\n",
       "      <td>income_60_90</td>\n",
       "      <td>М</td>\n",
       "      <td>1</td>\n",
       "    </tr>\n",
       "    <tr>\n",
       "      <th>1</th>\n",
       "      <td>962099</td>\n",
       "      <td>age_18_24</td>\n",
       "      <td>income_20_40</td>\n",
       "      <td>М</td>\n",
       "      <td>0</td>\n",
       "    </tr>\n",
       "    <tr>\n",
       "      <th>2</th>\n",
       "      <td>1047345</td>\n",
       "      <td>age_45_54</td>\n",
       "      <td>income_40_60</td>\n",
       "      <td>Ж</td>\n",
       "      <td>0</td>\n",
       "    </tr>\n",
       "    <tr>\n",
       "      <th>3</th>\n",
       "      <td>721985</td>\n",
       "      <td>age_45_54</td>\n",
       "      <td>income_20_40</td>\n",
       "      <td>Ж</td>\n",
       "      <td>0</td>\n",
       "    </tr>\n",
       "    <tr>\n",
       "      <th>4</th>\n",
       "      <td>704055</td>\n",
       "      <td>age_35_44</td>\n",
       "      <td>income_60_90</td>\n",
       "      <td>Ж</td>\n",
       "      <td>0</td>\n",
       "    </tr>\n",
       "  </tbody>\n",
       "</table>\n",
       "</div>"
      ],
      "text/plain": [
       "   user_id        age        income sex  kids_flg\n",
       "0   973171  age_25_34  income_60_90   М         1\n",
       "1   962099  age_18_24  income_20_40   М         0\n",
       "2  1047345  age_45_54  income_40_60   Ж         0\n",
       "3   721985  age_45_54  income_20_40   Ж         0\n",
       "4   704055  age_35_44  income_60_90   Ж         0"
      ]
     },
     "execution_count": 15,
     "metadata": {},
     "output_type": "execute_result"
    }
   ],
   "source": [
    "users_data = read_csv_from_gdrive(USERS_DATA_PATH)\n",
    "users_data.head()"
   ]
  },
  {
   "attachments": {},
   "cell_type": "markdown",
   "metadata": {},
   "source": [
    "## 2.2. Train/test split"
   ]
  },
  {
   "attachments": {},
   "cell_type": "markdown",
   "metadata": {},
   "source": [
    "## 2.3 Data preparation using LightFM Dataset (first-level model)"
   ]
  },
  {
   "attachments": {},
   "cell_type": "markdown",
   "metadata": {},
   "source": [
    "To use implicit kNN method `fit` we need a sparse matrix in COOrdinate format. To achieve that we will use `scipy.sparse.coo_matrix` from scipy;\n"
   ]
  },
  {
   "cell_type": "code",
   "execution_count": 16,
   "metadata": {},
   "outputs": [],
   "source": [
    "# remove redundant data points\n",
    "interactions_filtered = interactions.loc[interactions['total_dur'] > 300].reset_index(drop = True)"
   ]
  },
  {
   "cell_type": "code",
   "execution_count": 17,
   "metadata": {},
   "outputs": [
    {
     "name": "stdout",
     "output_type": "stream",
     "text": [
      "(5476251, 5) (4195689, 5)\n"
     ]
    }
   ],
   "source": [
    "print(interactions.shape, interactions_filtered.shape)"
   ]
  },
  {
   "cell_type": "code",
   "execution_count": 18,
   "metadata": {},
   "outputs": [],
   "source": [
    "interactions_filtered['last_watch_dt'] = pd.to_datetime(interactions_filtered['last_watch_dt'])"
   ]
  },
  {
   "cell_type": "code",
   "execution_count": 19,
   "metadata": {},
   "outputs": [
    {
     "name": "stdout",
     "output_type": "stream",
     "text": [
      "min date in filtered interactions: 2021-08-22 00:00:00\n",
      "max date in filtered interactions:: 2021-03-13 00:00:00\n"
     ]
    }
   ],
   "source": [
    "# set dates params for filter\n",
    "MAX_DATE = interactions_filtered['last_watch_dt'].max()\n",
    "MIN_DATE = interactions_filtered['last_watch_dt'].min()\n",
    "TEST_INTERVAL_DAYS = 14\n",
    "\n",
    "print(f\"min date in filtered interactions: {MAX_DATE}\")\n",
    "print(f\"max date in filtered interactions:: {MIN_DATE}\")"
   ]
  },
  {
   "cell_type": "code",
   "execution_count": 20,
   "metadata": {},
   "outputs": [
    {
     "data": {
      "text/html": [
       "<div>\n",
       "<style scoped>\n",
       "    .dataframe tbody tr th:only-of-type {\n",
       "        vertical-align: middle;\n",
       "    }\n",
       "\n",
       "    .dataframe tbody tr th {\n",
       "        vertical-align: top;\n",
       "    }\n",
       "\n",
       "    .dataframe thead th {\n",
       "        text-align: right;\n",
       "    }\n",
       "</style>\n",
       "<table border=\"1\" class=\"dataframe\">\n",
       "  <thead>\n",
       "    <tr style=\"text-align: right;\">\n",
       "      <th></th>\n",
       "      <th>user_id</th>\n",
       "      <th>item_id</th>\n",
       "      <th>last_watch_dt</th>\n",
       "      <th>total_dur</th>\n",
       "      <th>watched_pct</th>\n",
       "    </tr>\n",
       "  </thead>\n",
       "  <tbody>\n",
       "    <tr>\n",
       "      <th>0</th>\n",
       "      <td>176549</td>\n",
       "      <td>9506</td>\n",
       "      <td>2021-05-11</td>\n",
       "      <td>4250</td>\n",
       "      <td>72.0</td>\n",
       "    </tr>\n",
       "    <tr>\n",
       "      <th>1</th>\n",
       "      <td>699317</td>\n",
       "      <td>1659</td>\n",
       "      <td>2021-05-29</td>\n",
       "      <td>8317</td>\n",
       "      <td>100.0</td>\n",
       "    </tr>\n",
       "    <tr>\n",
       "      <th>2</th>\n",
       "      <td>864613</td>\n",
       "      <td>7638</td>\n",
       "      <td>2021-07-05</td>\n",
       "      <td>14483</td>\n",
       "      <td>100.0</td>\n",
       "    </tr>\n",
       "    <tr>\n",
       "      <th>3</th>\n",
       "      <td>964868</td>\n",
       "      <td>9506</td>\n",
       "      <td>2021-04-30</td>\n",
       "      <td>6725</td>\n",
       "      <td>100.0</td>\n",
       "    </tr>\n",
       "    <tr>\n",
       "      <th>4</th>\n",
       "      <td>1032142</td>\n",
       "      <td>6686</td>\n",
       "      <td>2021-05-13</td>\n",
       "      <td>11286</td>\n",
       "      <td>100.0</td>\n",
       "    </tr>\n",
       "    <tr>\n",
       "      <th>...</th>\n",
       "      <td>...</td>\n",
       "      <td>...</td>\n",
       "      <td>...</td>\n",
       "      <td>...</td>\n",
       "      <td>...</td>\n",
       "    </tr>\n",
       "    <tr>\n",
       "      <th>4195684</th>\n",
       "      <td>786732</td>\n",
       "      <td>4880</td>\n",
       "      <td>2021-05-12</td>\n",
       "      <td>753</td>\n",
       "      <td>0.0</td>\n",
       "    </tr>\n",
       "    <tr>\n",
       "      <th>4195685</th>\n",
       "      <td>546862</td>\n",
       "      <td>9673</td>\n",
       "      <td>2021-04-13</td>\n",
       "      <td>2308</td>\n",
       "      <td>49.0</td>\n",
       "    </tr>\n",
       "    <tr>\n",
       "      <th>4195686</th>\n",
       "      <td>697262</td>\n",
       "      <td>15297</td>\n",
       "      <td>2021-08-20</td>\n",
       "      <td>18307</td>\n",
       "      <td>63.0</td>\n",
       "    </tr>\n",
       "    <tr>\n",
       "      <th>4195687</th>\n",
       "      <td>384202</td>\n",
       "      <td>16197</td>\n",
       "      <td>2021-04-19</td>\n",
       "      <td>6203</td>\n",
       "      <td>100.0</td>\n",
       "    </tr>\n",
       "    <tr>\n",
       "      <th>4195688</th>\n",
       "      <td>319709</td>\n",
       "      <td>4436</td>\n",
       "      <td>2021-08-15</td>\n",
       "      <td>3921</td>\n",
       "      <td>45.0</td>\n",
       "    </tr>\n",
       "  </tbody>\n",
       "</table>\n",
       "<p>4195689 rows × 5 columns</p>\n",
       "</div>"
      ],
      "text/plain": [
       "         user_id  item_id last_watch_dt  total_dur  watched_pct\n",
       "0         176549     9506    2021-05-11       4250         72.0\n",
       "1         699317     1659    2021-05-29       8317        100.0\n",
       "2         864613     7638    2021-07-05      14483        100.0\n",
       "3         964868     9506    2021-04-30       6725        100.0\n",
       "4        1032142     6686    2021-05-13      11286        100.0\n",
       "...          ...      ...           ...        ...          ...\n",
       "4195684   786732     4880    2021-05-12        753          0.0\n",
       "4195685   546862     9673    2021-04-13       2308         49.0\n",
       "4195686   697262    15297    2021-08-20      18307         63.0\n",
       "4195687   384202    16197    2021-04-19       6203        100.0\n",
       "4195688   319709     4436    2021-08-15       3921         45.0\n",
       "\n",
       "[4195689 rows x 5 columns]"
      ]
     },
     "execution_count": 20,
     "metadata": {},
     "output_type": "execute_result"
    }
   ],
   "source": [
    "interactions_filtered"
   ]
  },
  {
   "cell_type": "code",
   "execution_count": 2,
   "metadata": {},
   "outputs": [
    {
     "ename": "NameError",
     "evalue": "name 'MAX_DATE' is not defined",
     "output_type": "error",
     "traceback": [
      "\u001b[0;31m---------------------------------------------------------------------------\u001b[0m",
      "\u001b[0;31mNameError\u001b[0m                                 Traceback (most recent call last)",
      "\u001b[0;32m/var/folders/bd/qxrpmdtn5lg899jdcc21z8j00000gn/T/ipykernel_20054/159143359.py\u001b[0m in \u001b[0;36m<module>\u001b[0;34m\u001b[0m\n\u001b[0;32m----> 1\u001b[0;31m \u001b[0mTEST_MAX_DATE\u001b[0m \u001b[0;34m=\u001b[0m \u001b[0mMAX_DATE\u001b[0m \u001b[0;34m-\u001b[0m \u001b[0mdt\u001b[0m\u001b[0;34m.\u001b[0m\u001b[0mtimedelta\u001b[0m\u001b[0;34m(\u001b[0m\u001b[0mdays\u001b[0m \u001b[0;34m=\u001b[0m \u001b[0mTEST_INTERVAL_DAYS\u001b[0m\u001b[0;34m)\u001b[0m\u001b[0;34m\u001b[0m\u001b[0;34m\u001b[0m\u001b[0m\n\u001b[0m",
      "\u001b[0;31mNameError\u001b[0m: name 'MAX_DATE' is not defined"
     ]
    }
   ],
   "source": [
    "TEST_MAX_DATE = MAX_DATE - dt.timedelta(days = TEST_INTERVAL_DAYS)"
   ]
  },
  {
   "cell_type": "code",
   "execution_count": 22,
   "metadata": {},
   "outputs": [
    {
     "name": "stdout",
     "output_type": "stream",
     "text": [
      "(3530674, 5) (665015, 5)\n"
     ]
    }
   ],
   "source": [
    "# define global train and test\n",
    "global_train = interactions_filtered.loc[interactions_filtered['last_watch_dt'] < TEST_MAX_DATE]\n",
    "global_test = interactions_filtered.loc[interactions_filtered['last_watch_dt'] >= TEST_MAX_DATE]\n",
    "\n",
    "print(global_train.shape, global_test.shape)"
   ]
  },
  {
   "cell_type": "code",
   "execution_count": 23,
   "metadata": {},
   "outputs": [
    {
     "name": "stdout",
     "output_type": "stream",
     "text": [
      "2021-07-11 00:00:00\n"
     ]
    }
   ],
   "source": [
    "# now, we define \"local\" train and test to use some part of the global train for ranker\n",
    "local_train_thresh = global_train['last_watch_dt'].quantile(q = .7, interpolation = 'nearest')\n",
    "print(local_train_thresh)"
   ]
  },
  {
   "cell_type": "code",
   "execution_count": 24,
   "metadata": {},
   "outputs": [],
   "source": [
    "global_train = global_train.dropna().reset_index(drop = True)"
   ]
  },
  {
   "cell_type": "code",
   "execution_count": 25,
   "metadata": {},
   "outputs": [
    {
     "name": "stdout",
     "output_type": "stream",
     "text": [
      "(2451040, 5) (1079183, 5)\n"
     ]
    }
   ],
   "source": [
    "local_train = global_train.loc[global_train['last_watch_dt'] < local_train_thresh]\n",
    "local_test = global_train.loc[global_train['last_watch_dt'] >= local_train_thresh]\n",
    "\n",
    "print(local_train.shape, local_test.shape)"
   ]
  },
  {
   "cell_type": "code",
   "execution_count": 26,
   "metadata": {},
   "outputs": [
    {
     "name": "stdout",
     "output_type": "stream",
     "text": [
      "(579382, 5)\n"
     ]
    }
   ],
   "source": [
    "# finally, we will focus on warm start -- remove cold start users\n",
    "local_test = local_test.loc[local_test['user_id'].isin(local_train['user_id'].unique())]\n",
    "print(local_test.shape)"
   ]
  },
  {
   "cell_type": "code",
   "execution_count": 27,
   "metadata": {},
   "outputs": [],
   "source": [
    "# init class\n",
    "dataset = Dataset()\n",
    "\n",
    "# fit tuple of user and movie interactions\n",
    "dataset.fit(local_train['user_id'].unique(), local_train['item_id'].unique())"
   ]
  },
  {
   "cell_type": "code",
   "execution_count": 28,
   "metadata": {},
   "outputs": [
    {
     "data": {
      "text/plain": [
       "<lightfm.data.Dataset at 0x7fe1ddb3e760>"
      ]
     },
     "execution_count": 28,
     "metadata": {},
     "output_type": "execute_result"
    }
   ],
   "source": [
    "dataset"
   ]
  },
  {
   "cell_type": "code",
   "execution_count": 29,
   "metadata": {},
   "outputs": [],
   "source": [
    "# now, we define lightfm mapper to use it later for checks\n",
    "lightfm_mapping = dataset.mapping()\n",
    "# lightfm_mapping"
   ]
  },
  {
   "cell_type": "code",
   "execution_count": 30,
   "metadata": {},
   "outputs": [
    {
     "name": "stdout",
     "output_type": "stream",
     "text": [
      "user mapper length -  539173\n",
      "user features mapper length -  539173\n",
      "movies mapper length -  13006\n",
      "Users movie features mapper length -  13006\n"
     ]
    }
   ],
   "source": [
    "lightfm_mapping = {\n",
    "    'users_mapping': lightfm_mapping[0],\n",
    "    'user_features_mapping': lightfm_mapping[1],\n",
    "    'items_mapping': lightfm_mapping[2],\n",
    "    'item_features_mapping': lightfm_mapping[3],\n",
    "}\n",
    "print('user mapper length - ', len(lightfm_mapping['users_mapping']))\n",
    "print('user features mapper length - ', len(lightfm_mapping['user_features_mapping']))\n",
    "print('movies mapper length - ', len(lightfm_mapping['items_mapping']))\n",
    "print('Users movie features mapper length - ', len(lightfm_mapping['item_features_mapping']))"
   ]
  },
  {
   "cell_type": "code",
   "execution_count": 31,
   "metadata": {},
   "outputs": [],
   "source": [
    "# here we create inverted mappers to check recommendations later\n",
    "lightfm_mapping['users_inv_mapping'] = {v: k for k, v in lightfm_mapping['users_mapping'].items()}\n",
    "lightfm_mapping['items_inv_mapping'] = {v: k for k, v in lightfm_mapping['items_mapping'].items()}"
   ]
  },
  {
   "cell_type": "code",
   "execution_count": 32,
   "metadata": {},
   "outputs": [],
   "source": [
    "# special iterator to use with lightfm\n",
    "def df_to_tuple_iterator(df: pd.DataFrame):\n",
    "    '''\n",
    "    :df: pd.DataFrame, interactions dataframe\n",
    "    returs iterator\n",
    "    '''\n",
    "    return zip(*df.values.T)\n",
    "\n",
    "def concat_last_to_list(t):\n",
    "    return (t[0], list(t[1:])[0])\n",
    "\n",
    "def df_to_tuple_list_iterator(df):\n",
    "    return map(concat_last_to_list, zip(*df.values.T))"
   ]
  },
  {
   "cell_type": "code",
   "execution_count": 33,
   "metadata": {},
   "outputs": [],
   "source": [
    "# defining train set on the whole interactions dataset (as HW you will have to split into test and train for evaluation)\n",
    "train_mat, train_mat_weights = dataset.build_interactions(df_to_tuple_iterator(local_train[['user_id', 'item_id']]))"
   ]
  },
  {
   "cell_type": "code",
   "execution_count": 34,
   "metadata": {},
   "outputs": [
    {
     "data": {
      "text/plain": [
       "<bound method Series.unique of 0           9506\n",
       "1           1659\n",
       "2           7638\n",
       "3           9506\n",
       "4           6686\n",
       "           ...  \n",
       "4195684     4880\n",
       "4195685     9673\n",
       "4195686    15297\n",
       "4195687    16197\n",
       "4195688     4436\n",
       "Name: item_id, Length: 4195689, dtype: int64>"
      ]
     },
     "metadata": {},
     "output_type": "display_data"
    }
   ],
   "source": [
    "display(interactions_filtered['item_id'].unique)"
   ]
  },
  {
   "cell_type": "code",
   "execution_count": null,
   "metadata": {},
   "outputs": [],
   "source": []
  },
  {
   "cell_type": "code",
   "execution_count": 35,
   "metadata": {},
   "outputs": [
    {
     "data": {
      "text/plain": [
       "<539173x13006 sparse matrix of type '<class 'numpy.int32'>'\n",
       "\twith 2451040 stored elements in COOrdinate format>"
      ]
     },
     "execution_count": 35,
     "metadata": {},
     "output_type": "execute_result"
    }
   ],
   "source": [
    "train_mat"
   ]
  },
  {
   "cell_type": "code",
   "execution_count": 36,
   "metadata": {},
   "outputs": [
    {
     "data": {
      "text/plain": [
       "<539173x13006 sparse matrix of type '<class 'numpy.float32'>'\n",
       "\twith 2451040 stored elements in COOrdinate format>"
      ]
     },
     "execution_count": 36,
     "metadata": {},
     "output_type": "execute_result"
    }
   ],
   "source": [
    "train_mat_weights"
   ]
  },
  {
   "attachments": {},
   "cell_type": "markdown",
   "metadata": {},
   "source": [
    "## 2.4. Train LigthFM model"
   ]
  },
  {
   "cell_type": "code",
   "execution_count": 37,
   "metadata": {},
   "outputs": [],
   "source": [
    "# set params\n",
    "NO_COMPONENTS = 64\n",
    "LEARNING_RATE = .03\n",
    "LOSS = 'warp'\n",
    "MAX_SAMPLED = 5\n",
    "RANDOM_STATE = 42\n",
    "EPOCHS = 20"
   ]
  },
  {
   "cell_type": "code",
   "execution_count": 38,
   "metadata": {},
   "outputs": [],
   "source": [
    "# init model\n",
    "lfm_model = LightFM(\n",
    "    no_components = NO_COMPONENTS,\n",
    "    learning_rate = LEARNING_RATE,\n",
    "    loss = LOSS,\n",
    "    max_sampled = MAX_SAMPLED,\n",
    "    random_state = RANDOM_STATE\n",
    "    )"
   ]
  },
  {
   "cell_type": "code",
   "execution_count": 39,
   "metadata": {},
   "outputs": [
    {
     "name": "stderr",
     "output_type": "stream",
     "text": [
      "100%|██████████| 20/20 [00:57<00:00,  2.89s/it]\n"
     ]
    }
   ],
   "source": [
    "# execute training\n",
    "for _ in tqdm(range(EPOCHS), total = EPOCHS):\n",
    "    lfm_model.fit_partial(\n",
    "        train_mat,\n",
    "        num_threads = 4\n",
    "    )"
   ]
  },
  {
   "cell_type": "code",
   "execution_count": 40,
   "metadata": {},
   "outputs": [
    {
     "name": "stdout",
     "output_type": "stream",
     "text": [
      "Rekko for user 713676, row number in matrix - 62\n"
     ]
    }
   ],
   "source": [
    "# let's make sense-check\n",
    "top_N = 10\n",
    "user_id = local_train['user_id'][100]\n",
    "row_id = lightfm_mapping['users_mapping'][user_id]\n",
    "print(f'Rekko for user {user_id}, row number in matrix - {row_id}')"
   ]
  },
  {
   "cell_type": "code",
   "execution_count": 41,
   "metadata": {},
   "outputs": [
    {
     "data": {
      "text/plain": [
       "13006"
      ]
     },
     "execution_count": 41,
     "metadata": {},
     "output_type": "execute_result"
    }
   ],
   "source": [
    "all_cols = list(lightfm_mapping['items_mapping'].values())\n",
    "len(all_cols)"
   ]
  },
  {
   "cell_type": "code",
   "execution_count": 42,
   "metadata": {},
   "outputs": [
    {
     "data": {
      "text/plain": [
       "(array([ 2.2222135,  1.4464369, -1.9280975, ..., -2.1294303, -1.9549031,\n",
       "        -2.0654202], dtype=float32),\n",
       " (13006,))"
      ]
     },
     "execution_count": 42,
     "metadata": {},
     "output_type": "execute_result"
    }
   ],
   "source": [
    "pred = lfm_model.predict(\n",
    "    row_id,\n",
    "    all_cols,\n",
    "    num_threads = 4)\n",
    "pred, pred.shape"
   ]
  },
  {
   "cell_type": "code",
   "execution_count": 43,
   "metadata": {},
   "outputs": [
    {
     "data": {
      "text/plain": [
       "array([ 87,   5, 298, 506, 435, 302,  20, 168, 146, 675])"
      ]
     },
     "execution_count": 43,
     "metadata": {},
     "output_type": "execute_result"
    }
   ],
   "source": [
    "top_cols = np.argpartition(pred, -np.arange(top_N))[-top_N:][::-1]\n",
    "top_cols"
   ]
  },
  {
   "cell_type": "code",
   "execution_count": 44,
   "metadata": {},
   "outputs": [],
   "source": [
    "# crate mapper for movieId and title names\n",
    "item_name_mapper = dict(zip(movies_metadata['item_id'], movies_metadata['title']))"
   ]
  },
  {
   "cell_type": "code",
   "execution_count": 45,
   "metadata": {},
   "outputs": [
    {
     "data": {
      "text/html": [
       "<div>\n",
       "<style scoped>\n",
       "    .dataframe tbody tr th:only-of-type {\n",
       "        vertical-align: middle;\n",
       "    }\n",
       "\n",
       "    .dataframe tbody tr th {\n",
       "        vertical-align: top;\n",
       "    }\n",
       "\n",
       "    .dataframe thead th {\n",
       "        text-align: right;\n",
       "    }\n",
       "</style>\n",
       "<table border=\"1\" class=\"dataframe\">\n",
       "  <thead>\n",
       "    <tr style=\"text-align: right;\">\n",
       "      <th></th>\n",
       "      <th>col_id</th>\n",
       "      <th>item_id</th>\n",
       "      <th>title</th>\n",
       "    </tr>\n",
       "  </thead>\n",
       "  <tbody>\n",
       "    <tr>\n",
       "      <th>0</th>\n",
       "      <td>87</td>\n",
       "      <td>16166</td>\n",
       "      <td>Зверополис</td>\n",
       "    </tr>\n",
       "    <tr>\n",
       "      <th>1</th>\n",
       "      <td>5</td>\n",
       "      <td>7571</td>\n",
       "      <td>100% волк</td>\n",
       "    </tr>\n",
       "    <tr>\n",
       "      <th>2</th>\n",
       "      <td>298</td>\n",
       "      <td>13915</td>\n",
       "      <td>Вперёд</td>\n",
       "    </tr>\n",
       "    <tr>\n",
       "      <th>3</th>\n",
       "      <td>506</td>\n",
       "      <td>10761</td>\n",
       "      <td>Моана</td>\n",
       "    </tr>\n",
       "    <tr>\n",
       "      <th>4</th>\n",
       "      <td>435</td>\n",
       "      <td>13018</td>\n",
       "      <td>Король лев (2019)</td>\n",
       "    </tr>\n",
       "    <tr>\n",
       "      <th>5</th>\n",
       "      <td>302</td>\n",
       "      <td>12173</td>\n",
       "      <td>Мстители: Финал</td>\n",
       "    </tr>\n",
       "    <tr>\n",
       "      <th>6</th>\n",
       "      <td>20</td>\n",
       "      <td>7626</td>\n",
       "      <td>Мстители: Война бесконечности</td>\n",
       "    </tr>\n",
       "    <tr>\n",
       "      <th>7</th>\n",
       "      <td>168</td>\n",
       "      <td>3182</td>\n",
       "      <td>Ральф против Интернета</td>\n",
       "    </tr>\n",
       "    <tr>\n",
       "      <th>8</th>\n",
       "      <td>146</td>\n",
       "      <td>11310</td>\n",
       "      <td>Аладдин</td>\n",
       "    </tr>\n",
       "    <tr>\n",
       "      <th>9</th>\n",
       "      <td>675</td>\n",
       "      <td>13159</td>\n",
       "      <td>Рататуй</td>\n",
       "    </tr>\n",
       "  </tbody>\n",
       "</table>\n",
       "</div>"
      ],
      "text/plain": [
       "   col_id  item_id                          title\n",
       "0      87    16166                     Зверополис\n",
       "1       5     7571                      100% волк\n",
       "2     298    13915                         Вперёд\n",
       "3     506    10761                          Моана\n",
       "4     435    13018              Король лев (2019)\n",
       "5     302    12173                Мстители: Финал\n",
       "6      20     7626  Мстители: Война бесконечности\n",
       "7     168     3182         Ральф против Интернета\n",
       "8     146    11310                        Аладдин\n",
       "9     675    13159                        Рататуй"
      ]
     },
     "execution_count": 45,
     "metadata": {},
     "output_type": "execute_result"
    }
   ],
   "source": [
    "recs = pd.DataFrame({'col_id': top_cols})\n",
    "recs['item_id'] = recs['col_id'].map(lightfm_mapping['items_inv_mapping'].get)\n",
    "recs['title'] = recs['item_id'].map(item_name_mapper)\n",
    "recs"
   ]
  },
  {
   "cell_type": "code",
   "execution_count": 46,
   "metadata": {},
   "outputs": [
    {
     "name": "stdout",
     "output_type": "stream",
     "text": [
      "Rekko for user 869219, row number in matrix - 675\n"
     ]
    }
   ],
   "source": [
    "# let's make sense-check\n",
    "top_N = 10\n",
    "user_id = local_train['user_id'][1000]\n",
    "row_id = lightfm_mapping['users_mapping'][user_id]\n",
    "print(f'Rekko for user {user_id}, row number in matrix - {row_id}')"
   ]
  },
  {
   "cell_type": "code",
   "execution_count": 47,
   "metadata": {},
   "outputs": [
    {
     "data": {
      "text/plain": [
       "(array([-0.19702657, -0.38245714, -2.658608  , ..., -3.2753859 ,\n",
       "        -3.0609252 , -2.8367202 ], dtype=float32),\n",
       " (13006,))"
      ]
     },
     "execution_count": 47,
     "metadata": {},
     "output_type": "execute_result"
    }
   ],
   "source": [
    "pred = lfm_model.predict(\n",
    "    row_id,\n",
    "    all_cols,\n",
    "    num_threads = 4)\n",
    "pred, pred.shape\n"
   ]
  },
  {
   "cell_type": "code",
   "execution_count": 48,
   "metadata": {},
   "outputs": [
    {
     "data": {
      "text/plain": [
       "array([ 222,  682,   52,  207,  962,  333, 2935, 2059,  306, 5235])"
      ]
     },
     "execution_count": 48,
     "metadata": {},
     "output_type": "execute_result"
    }
   ],
   "source": [
    "top_cols = np.argpartition(pred, -np.arange(top_N))[-top_N:][::-1]\n",
    "top_cols"
   ]
  },
  {
   "cell_type": "code",
   "execution_count": 49,
   "metadata": {},
   "outputs": [
    {
     "data": {
      "text/html": [
       "<div>\n",
       "<style scoped>\n",
       "    .dataframe tbody tr th:only-of-type {\n",
       "        vertical-align: middle;\n",
       "    }\n",
       "\n",
       "    .dataframe tbody tr th {\n",
       "        vertical-align: top;\n",
       "    }\n",
       "\n",
       "    .dataframe thead th {\n",
       "        text-align: right;\n",
       "    }\n",
       "</style>\n",
       "<table border=\"1\" class=\"dataframe\">\n",
       "  <thead>\n",
       "    <tr style=\"text-align: right;\">\n",
       "      <th></th>\n",
       "      <th>col_id</th>\n",
       "      <th>item_id</th>\n",
       "      <th>title</th>\n",
       "    </tr>\n",
       "  </thead>\n",
       "  <tbody>\n",
       "    <tr>\n",
       "      <th>0</th>\n",
       "      <td>222</td>\n",
       "      <td>676</td>\n",
       "      <td>Человек-невидимка</td>\n",
       "    </tr>\n",
       "    <tr>\n",
       "      <th>1</th>\n",
       "      <td>682</td>\n",
       "      <td>16361</td>\n",
       "      <td>Doom: Аннигиляция</td>\n",
       "    </tr>\n",
       "    <tr>\n",
       "      <th>2</th>\n",
       "      <td>52</td>\n",
       "      <td>2647</td>\n",
       "      <td>Идеальный пациент</td>\n",
       "    </tr>\n",
       "    <tr>\n",
       "      <th>3</th>\n",
       "      <td>207</td>\n",
       "      <td>11143</td>\n",
       "      <td>На пятьдесят оттенков темнее</td>\n",
       "    </tr>\n",
       "    <tr>\n",
       "      <th>4</th>\n",
       "      <td>962</td>\n",
       "      <td>9335</td>\n",
       "      <td>Подводная братва</td>\n",
       "    </tr>\n",
       "    <tr>\n",
       "      <th>5</th>\n",
       "      <td>333</td>\n",
       "      <td>4141</td>\n",
       "      <td>Пятьдесят оттенков серого</td>\n",
       "    </tr>\n",
       "    <tr>\n",
       "      <th>6</th>\n",
       "      <td>2935</td>\n",
       "      <td>1090</td>\n",
       "      <td>Нерождённый</td>\n",
       "    </tr>\n",
       "    <tr>\n",
       "      <th>7</th>\n",
       "      <td>2059</td>\n",
       "      <td>10647</td>\n",
       "      <td>Винчестер. Дом, который построили призраки</td>\n",
       "    </tr>\n",
       "    <tr>\n",
       "      <th>8</th>\n",
       "      <td>306</td>\n",
       "      <td>9169</td>\n",
       "      <td>Взаперти</td>\n",
       "    </tr>\n",
       "    <tr>\n",
       "      <th>9</th>\n",
       "      <td>5235</td>\n",
       "      <td>13948</td>\n",
       "      <td>Смерть ей к лицу</td>\n",
       "    </tr>\n",
       "  </tbody>\n",
       "</table>\n",
       "</div>"
      ],
      "text/plain": [
       "   col_id  item_id                                       title\n",
       "0     222      676                           Человек-невидимка\n",
       "1     682    16361                           Doom: Аннигиляция\n",
       "2      52     2647                           Идеальный пациент\n",
       "3     207    11143                На пятьдесят оттенков темнее\n",
       "4     962     9335                            Подводная братва\n",
       "5     333     4141                   Пятьдесят оттенков серого\n",
       "6    2935     1090                                 Нерождённый\n",
       "7    2059    10647  Винчестер. Дом, который построили призраки\n",
       "8     306     9169                                    Взаперти\n",
       "9    5235    13948                            Смерть ей к лицу"
      ]
     },
     "execution_count": 49,
     "metadata": {},
     "output_type": "execute_result"
    }
   ],
   "source": [
    "recs = pd.DataFrame({'col_id': top_cols})\n",
    "recs['item_id'] = recs['col_id'].map(lightfm_mapping['items_inv_mapping'].get)\n",
    "recs['title'] = recs['item_id'].map(item_name_mapper)\n",
    "recs"
   ]
  },
  {
   "cell_type": "code",
   "execution_count": 50,
   "metadata": {},
   "outputs": [
    {
     "data": {
      "text/plain": [
       "144739"
      ]
     },
     "execution_count": 50,
     "metadata": {},
     "output_type": "execute_result"
    }
   ],
   "source": [
    "# let's make predictions for all users in test\n",
    "test_preds = pd.DataFrame({\n",
    "    'user_id': local_test['user_id'].unique()\n",
    "})\n",
    "len(test_preds)"
   ]
  },
  {
   "cell_type": "code",
   "execution_count": 51,
   "metadata": {},
   "outputs": [],
   "source": [
    "# all_recs = pd.DataFrame()\n",
    "# for user in tqdm_notebook(users_mapping.keys()):\n",
    "#     row_id = users_mapping[user]\n",
    "#     pred = lfm_model.predict(\n",
    "#         row_id,\n",
    "#         all_cols,\n",
    "#         num_threads = 4)\n",
    "#     top_cols = np.argpartition(pred, -np.arange(top_N))[-top_N:][::-1]\n",
    "#     user_recs = pd.DataFrame({'col_id': top_cols})\n",
    "#     user_recs['item_id'] = user_recs['col_id'].map(lightfm_mapping['items_inv_mapping'].get)\n",
    "#     user_recs['title'] = user_recs['item_id'].map(item_name_mapper)\n",
    "\n",
    "#     all_recs = pd.concat([all_recs, user_recs], ignore_index = True)"
   ]
  },
  {
   "cell_type": "code",
   "execution_count": 52,
   "metadata": {},
   "outputs": [],
   "source": [
    "def generate_lightfm_recs_mapper(\n",
    "        model: object,\n",
    "        item_ids: list,\n",
    "        known_items: dict,\n",
    "        user_features: list,\n",
    "        item_features: list,\n",
    "        N: int,\n",
    "        user_mapping: dict,\n",
    "        item_inv_mapping: dict,\n",
    "        num_threads: int = 4\n",
    "        ):\n",
    "    def _recs_mapper(user):\n",
    "        user_id = user_mapping[user]\n",
    "        recs = model.predict(\n",
    "            user_id,\n",
    "            item_ids,\n",
    "            user_features = user_features,\n",
    "            item_features = item_features,\n",
    "            num_threads = num_threads)\n",
    "        \n",
    "        additional_N = len(known_items[user_id]) if user_id in known_items else 0\n",
    "        total_N = N + additional_N\n",
    "        top_cols = np.argpartition(recs, -np.arange(total_N))[-total_N:][::-1]\n",
    "        \n",
    "        final_recs = [item_inv_mapping[item] for item in top_cols]\n",
    "        if additional_N > 0:\n",
    "            filter_items = known_items[user_id]\n",
    "            final_recs = [item for item in final_recs if item not in filter_items]\n",
    "        return final_recs[:N]\n",
    "    return _recs_mapper"
   ]
  },
  {
   "cell_type": "code",
   "execution_count": 53,
   "metadata": {},
   "outputs": [],
   "source": [
    "mapper = generate_lightfm_recs_mapper(\n",
    "    lfm_model, \n",
    "    item_ids = all_cols, \n",
    "    known_items = dict(),\n",
    "    N = top_N,\n",
    "    user_features = None, \n",
    "    item_features = None, \n",
    "    user_mapping = lightfm_mapping['users_mapping'],\n",
    "    item_inv_mapping = lightfm_mapping['items_inv_mapping'],\n",
    "    num_threads = 20\n",
    ")"
   ]
  },
  {
   "cell_type": "code",
   "execution_count": 54,
   "metadata": {},
   "outputs": [],
   "source": [
    "test_preds['item_id'] = test_preds['user_id'].map(mapper)"
   ]
  },
  {
   "cell_type": "code",
   "execution_count": 55,
   "metadata": {},
   "outputs": [
    {
     "data": {
      "text/html": [
       "<div>\n",
       "<style scoped>\n",
       "    .dataframe tbody tr th:only-of-type {\n",
       "        vertical-align: middle;\n",
       "    }\n",
       "\n",
       "    .dataframe tbody tr th {\n",
       "        vertical-align: top;\n",
       "    }\n",
       "\n",
       "    .dataframe thead th {\n",
       "        text-align: right;\n",
       "    }\n",
       "</style>\n",
       "<table border=\"1\" class=\"dataframe\">\n",
       "  <thead>\n",
       "    <tr style=\"text-align: right;\">\n",
       "      <th></th>\n",
       "      <th>user_id</th>\n",
       "      <th>item_id</th>\n",
       "    </tr>\n",
       "  </thead>\n",
       "  <tbody>\n",
       "    <tr>\n",
       "      <th>0</th>\n",
       "      <td>646903</td>\n",
       "      <td>[10440, 14741, 16361, 9728, 9169, 13865, 14431...</td>\n",
       "    </tr>\n",
       "    <tr>\n",
       "      <th>1</th>\n",
       "      <td>215229</td>\n",
       "      <td>[13865, 9728, 10440, 3734, 15297, 4880, 4151, ...</td>\n",
       "    </tr>\n",
       "    <tr>\n",
       "      <th>2</th>\n",
       "      <td>81786</td>\n",
       "      <td>[15297, 10440, 4151, 2657, 3734, 9728, 13865, ...</td>\n",
       "    </tr>\n",
       "    <tr>\n",
       "      <th>3</th>\n",
       "      <td>985101</td>\n",
       "      <td>[10440, 15297, 13865, 4151, 9728, 3734, 2657, ...</td>\n",
       "    </tr>\n",
       "    <tr>\n",
       "      <th>4</th>\n",
       "      <td>205710</td>\n",
       "      <td>[9728, 4436, 13915, 7571, 16166, 3182, 7626, 1...</td>\n",
       "    </tr>\n",
       "    <tr>\n",
       "      <th>...</th>\n",
       "      <td>...</td>\n",
       "      <td>...</td>\n",
       "    </tr>\n",
       "    <tr>\n",
       "      <th>144734</th>\n",
       "      <td>800346</td>\n",
       "      <td>[10440, 15297, 13865, 4151, 9728, 3734, 2657, ...</td>\n",
       "    </tr>\n",
       "    <tr>\n",
       "      <th>144735</th>\n",
       "      <td>247657</td>\n",
       "      <td>[10440, 15297, 13865, 4151, 9728, 3734, 2657, ...</td>\n",
       "    </tr>\n",
       "    <tr>\n",
       "      <th>144736</th>\n",
       "      <td>673254</td>\n",
       "      <td>[15297, 10440, 4151, 13865, 4260, 9728, 3734, ...</td>\n",
       "    </tr>\n",
       "    <tr>\n",
       "      <th>144737</th>\n",
       "      <td>114918</td>\n",
       "      <td>[10440, 13865, 15297, 2657, 9728, 4880, 4151, ...</td>\n",
       "    </tr>\n",
       "    <tr>\n",
       "      <th>144738</th>\n",
       "      <td>119646</td>\n",
       "      <td>[10440, 13865, 13723, 15297, 9728, 3734, 12995...</td>\n",
       "    </tr>\n",
       "  </tbody>\n",
       "</table>\n",
       "<p>144739 rows × 2 columns</p>\n",
       "</div>"
      ],
      "text/plain": [
       "        user_id                                            item_id\n",
       "0        646903  [10440, 14741, 16361, 9728, 9169, 13865, 14431...\n",
       "1        215229  [13865, 9728, 10440, 3734, 15297, 4880, 4151, ...\n",
       "2         81786  [15297, 10440, 4151, 2657, 3734, 9728, 13865, ...\n",
       "3        985101  [10440, 15297, 13865, 4151, 9728, 3734, 2657, ...\n",
       "4        205710  [9728, 4436, 13915, 7571, 16166, 3182, 7626, 1...\n",
       "...         ...                                                ...\n",
       "144734   800346  [10440, 15297, 13865, 4151, 9728, 3734, 2657, ...\n",
       "144735   247657  [10440, 15297, 13865, 4151, 9728, 3734, 2657, ...\n",
       "144736   673254  [15297, 10440, 4151, 13865, 4260, 9728, 3734, ...\n",
       "144737   114918  [10440, 13865, 15297, 2657, 9728, 4880, 4151, ...\n",
       "144738   119646  [10440, 13865, 13723, 15297, 9728, 3734, 12995...\n",
       "\n",
       "[144739 rows x 2 columns]"
      ]
     },
     "execution_count": 55,
     "metadata": {},
     "output_type": "execute_result"
    }
   ],
   "source": [
    "test_preds"
   ]
  },
  {
   "cell_type": "code",
   "execution_count": 56,
   "metadata": {},
   "outputs": [
    {
     "data": {
      "text/plain": [
       "(1447390, 2)"
      ]
     },
     "execution_count": 56,
     "metadata": {},
     "output_type": "execute_result"
    }
   ],
   "source": [
    "test_preds = test_preds.explode('item_id')\n",
    "test_preds.shape"
   ]
  },
  {
   "cell_type": "code",
   "execution_count": 57,
   "metadata": {},
   "outputs": [],
   "source": [
    "test_preds['rank'] = test_preds.groupby('user_id').cumcount() + 1 "
   ]
  },
  {
   "cell_type": "code",
   "execution_count": 58,
   "metadata": {},
   "outputs": [
    {
     "data": {
      "text/html": [
       "<div>\n",
       "<style scoped>\n",
       "    .dataframe tbody tr th:only-of-type {\n",
       "        vertical-align: middle;\n",
       "    }\n",
       "\n",
       "    .dataframe tbody tr th {\n",
       "        vertical-align: top;\n",
       "    }\n",
       "\n",
       "    .dataframe thead th {\n",
       "        text-align: right;\n",
       "    }\n",
       "</style>\n",
       "<table border=\"1\" class=\"dataframe\">\n",
       "  <thead>\n",
       "    <tr style=\"text-align: right;\">\n",
       "      <th></th>\n",
       "      <th>user_id</th>\n",
       "      <th>item_id</th>\n",
       "      <th>rank</th>\n",
       "    </tr>\n",
       "  </thead>\n",
       "  <tbody>\n",
       "    <tr>\n",
       "      <th>0</th>\n",
       "      <td>646903</td>\n",
       "      <td>10440</td>\n",
       "      <td>1</td>\n",
       "    </tr>\n",
       "    <tr>\n",
       "      <th>0</th>\n",
       "      <td>646903</td>\n",
       "      <td>14741</td>\n",
       "      <td>2</td>\n",
       "    </tr>\n",
       "    <tr>\n",
       "      <th>0</th>\n",
       "      <td>646903</td>\n",
       "      <td>16361</td>\n",
       "      <td>3</td>\n",
       "    </tr>\n",
       "    <tr>\n",
       "      <th>0</th>\n",
       "      <td>646903</td>\n",
       "      <td>9728</td>\n",
       "      <td>4</td>\n",
       "    </tr>\n",
       "    <tr>\n",
       "      <th>0</th>\n",
       "      <td>646903</td>\n",
       "      <td>9169</td>\n",
       "      <td>5</td>\n",
       "    </tr>\n",
       "  </tbody>\n",
       "</table>\n",
       "</div>"
      ],
      "text/plain": [
       "   user_id item_id  rank\n",
       "0   646903   10440     1\n",
       "0   646903   14741     2\n",
       "0   646903   16361     3\n",
       "0   646903    9728     4\n",
       "0   646903    9169     5"
      ]
     },
     "execution_count": 58,
     "metadata": {},
     "output_type": "execute_result"
    }
   ],
   "source": [
    "test_preds.head()"
   ]
  },
  {
   "cell_type": "code",
   "execution_count": 59,
   "metadata": {},
   "outputs": [
    {
     "data": {
      "text/html": [
       "<div>\n",
       "<style scoped>\n",
       "    .dataframe tbody tr th:only-of-type {\n",
       "        vertical-align: middle;\n",
       "    }\n",
       "\n",
       "    .dataframe tbody tr th {\n",
       "        vertical-align: top;\n",
       "    }\n",
       "\n",
       "    .dataframe thead th {\n",
       "        text-align: right;\n",
       "    }\n",
       "</style>\n",
       "<table border=\"1\" class=\"dataframe\">\n",
       "  <thead>\n",
       "    <tr style=\"text-align: right;\">\n",
       "      <th></th>\n",
       "      <th>user_id</th>\n",
       "      <th>item_id</th>\n",
       "      <th>rank</th>\n",
       "      <th>item_name</th>\n",
       "    </tr>\n",
       "  </thead>\n",
       "  <tbody>\n",
       "    <tr>\n",
       "      <th>0</th>\n",
       "      <td>646903</td>\n",
       "      <td>10440</td>\n",
       "      <td>1</td>\n",
       "      <td>Хрустальный</td>\n",
       "    </tr>\n",
       "    <tr>\n",
       "      <th>0</th>\n",
       "      <td>646903</td>\n",
       "      <td>14741</td>\n",
       "      <td>2</td>\n",
       "      <td>Цвет из иных миров</td>\n",
       "    </tr>\n",
       "    <tr>\n",
       "      <th>0</th>\n",
       "      <td>646903</td>\n",
       "      <td>16361</td>\n",
       "      <td>3</td>\n",
       "      <td>Doom: Аннигиляция</td>\n",
       "    </tr>\n",
       "    <tr>\n",
       "      <th>0</th>\n",
       "      <td>646903</td>\n",
       "      <td>9728</td>\n",
       "      <td>4</td>\n",
       "      <td>Гнев человеческий</td>\n",
       "    </tr>\n",
       "    <tr>\n",
       "      <th>0</th>\n",
       "      <td>646903</td>\n",
       "      <td>9169</td>\n",
       "      <td>5</td>\n",
       "      <td>Взаперти</td>\n",
       "    </tr>\n",
       "    <tr>\n",
       "      <th>0</th>\n",
       "      <td>646903</td>\n",
       "      <td>13865</td>\n",
       "      <td>6</td>\n",
       "      <td>Девятаев</td>\n",
       "    </tr>\n",
       "    <tr>\n",
       "      <th>0</th>\n",
       "      <td>646903</td>\n",
       "      <td>14431</td>\n",
       "      <td>7</td>\n",
       "      <td>Приворот. Чёрное венчание</td>\n",
       "    </tr>\n",
       "    <tr>\n",
       "      <th>0</th>\n",
       "      <td>646903</td>\n",
       "      <td>14359</td>\n",
       "      <td>8</td>\n",
       "      <td>Проклятие ведьмы</td>\n",
       "    </tr>\n",
       "    <tr>\n",
       "      <th>0</th>\n",
       "      <td>646903</td>\n",
       "      <td>5287</td>\n",
       "      <td>9</td>\n",
       "      <td>Брешь</td>\n",
       "    </tr>\n",
       "    <tr>\n",
       "      <th>0</th>\n",
       "      <td>646903</td>\n",
       "      <td>1287</td>\n",
       "      <td>10</td>\n",
       "      <td>Терминатор: Тёмные судьбы</td>\n",
       "    </tr>\n",
       "    <tr>\n",
       "      <th>1</th>\n",
       "      <td>215229</td>\n",
       "      <td>13865</td>\n",
       "      <td>1</td>\n",
       "      <td>Девятаев</td>\n",
       "    </tr>\n",
       "    <tr>\n",
       "      <th>1</th>\n",
       "      <td>215229</td>\n",
       "      <td>9728</td>\n",
       "      <td>2</td>\n",
       "      <td>Гнев человеческий</td>\n",
       "    </tr>\n",
       "    <tr>\n",
       "      <th>1</th>\n",
       "      <td>215229</td>\n",
       "      <td>10440</td>\n",
       "      <td>3</td>\n",
       "      <td>Хрустальный</td>\n",
       "    </tr>\n",
       "    <tr>\n",
       "      <th>1</th>\n",
       "      <td>215229</td>\n",
       "      <td>3734</td>\n",
       "      <td>4</td>\n",
       "      <td>Прабабушка легкого поведения</td>\n",
       "    </tr>\n",
       "    <tr>\n",
       "      <th>1</th>\n",
       "      <td>215229</td>\n",
       "      <td>15297</td>\n",
       "      <td>5</td>\n",
       "      <td>Клиника счастья</td>\n",
       "    </tr>\n",
       "    <tr>\n",
       "      <th>1</th>\n",
       "      <td>215229</td>\n",
       "      <td>4880</td>\n",
       "      <td>6</td>\n",
       "      <td>Афера</td>\n",
       "    </tr>\n",
       "    <tr>\n",
       "      <th>1</th>\n",
       "      <td>215229</td>\n",
       "      <td>4151</td>\n",
       "      <td>7</td>\n",
       "      <td>Секреты семейной жизни</td>\n",
       "    </tr>\n",
       "    <tr>\n",
       "      <th>1</th>\n",
       "      <td>215229</td>\n",
       "      <td>12995</td>\n",
       "      <td>8</td>\n",
       "      <td>Восемь сотен</td>\n",
       "    </tr>\n",
       "    <tr>\n",
       "      <th>1</th>\n",
       "      <td>215229</td>\n",
       "      <td>11237</td>\n",
       "      <td>9</td>\n",
       "      <td>День города</td>\n",
       "    </tr>\n",
       "    <tr>\n",
       "      <th>1</th>\n",
       "      <td>215229</td>\n",
       "      <td>1449</td>\n",
       "      <td>10</td>\n",
       "      <td>Чкалов</td>\n",
       "    </tr>\n",
       "    <tr>\n",
       "      <th>2</th>\n",
       "      <td>81786</td>\n",
       "      <td>15297</td>\n",
       "      <td>1</td>\n",
       "      <td>Клиника счастья</td>\n",
       "    </tr>\n",
       "    <tr>\n",
       "      <th>2</th>\n",
       "      <td>81786</td>\n",
       "      <td>10440</td>\n",
       "      <td>2</td>\n",
       "      <td>Хрустальный</td>\n",
       "    </tr>\n",
       "    <tr>\n",
       "      <th>2</th>\n",
       "      <td>81786</td>\n",
       "      <td>4151</td>\n",
       "      <td>3</td>\n",
       "      <td>Секреты семейной жизни</td>\n",
       "    </tr>\n",
       "    <tr>\n",
       "      <th>2</th>\n",
       "      <td>81786</td>\n",
       "      <td>2657</td>\n",
       "      <td>4</td>\n",
       "      <td>Подслушано</td>\n",
       "    </tr>\n",
       "    <tr>\n",
       "      <th>2</th>\n",
       "      <td>81786</td>\n",
       "      <td>3734</td>\n",
       "      <td>5</td>\n",
       "      <td>Прабабушка легкого поведения</td>\n",
       "    </tr>\n",
       "    <tr>\n",
       "      <th>2</th>\n",
       "      <td>81786</td>\n",
       "      <td>9728</td>\n",
       "      <td>6</td>\n",
       "      <td>Гнев человеческий</td>\n",
       "    </tr>\n",
       "    <tr>\n",
       "      <th>2</th>\n",
       "      <td>81786</td>\n",
       "      <td>13865</td>\n",
       "      <td>7</td>\n",
       "      <td>Девятаев</td>\n",
       "    </tr>\n",
       "    <tr>\n",
       "      <th>2</th>\n",
       "      <td>81786</td>\n",
       "      <td>142</td>\n",
       "      <td>8</td>\n",
       "      <td>Маша</td>\n",
       "    </tr>\n",
       "    <tr>\n",
       "      <th>2</th>\n",
       "      <td>81786</td>\n",
       "      <td>6809</td>\n",
       "      <td>9</td>\n",
       "      <td>Дуров</td>\n",
       "    </tr>\n",
       "    <tr>\n",
       "      <th>2</th>\n",
       "      <td>81786</td>\n",
       "      <td>4880</td>\n",
       "      <td>10</td>\n",
       "      <td>Афера</td>\n",
       "    </tr>\n",
       "  </tbody>\n",
       "</table>\n",
       "</div>"
      ],
      "text/plain": [
       "   user_id item_id  rank                     item_name\n",
       "0   646903   10440     1                   Хрустальный\n",
       "0   646903   14741     2            Цвет из иных миров\n",
       "0   646903   16361     3             Doom: Аннигиляция\n",
       "0   646903    9728     4             Гнев человеческий\n",
       "0   646903    9169     5                      Взаперти\n",
       "0   646903   13865     6                      Девятаев\n",
       "0   646903   14431     7     Приворот. Чёрное венчание\n",
       "0   646903   14359     8              Проклятие ведьмы\n",
       "0   646903    5287     9                         Брешь\n",
       "0   646903    1287    10     Терминатор: Тёмные судьбы\n",
       "1   215229   13865     1                      Девятаев\n",
       "1   215229    9728     2             Гнев человеческий\n",
       "1   215229   10440     3                   Хрустальный\n",
       "1   215229    3734     4  Прабабушка легкого поведения\n",
       "1   215229   15297     5               Клиника счастья\n",
       "1   215229    4880     6                         Афера\n",
       "1   215229    4151     7        Секреты семейной жизни\n",
       "1   215229   12995     8                  Восемь сотен\n",
       "1   215229   11237     9                   День города\n",
       "1   215229    1449    10                        Чкалов\n",
       "2    81786   15297     1               Клиника счастья\n",
       "2    81786   10440     2                   Хрустальный\n",
       "2    81786    4151     3        Секреты семейной жизни\n",
       "2    81786    2657     4                    Подслушано\n",
       "2    81786    3734     5  Прабабушка легкого поведения\n",
       "2    81786    9728     6             Гнев человеческий\n",
       "2    81786   13865     7                      Девятаев\n",
       "2    81786     142     8                          Маша\n",
       "2    81786    6809     9                         Дуров\n",
       "2    81786    4880    10                         Афера"
      ]
     },
     "execution_count": 59,
     "metadata": {},
     "output_type": "execute_result"
    }
   ],
   "source": [
    "test_preds['item_name'] = test_preds['item_id'].map(item_name_mapper)\n",
    "test_preds.head(30)"
   ]
  },
  {
   "cell_type": "code",
   "execution_count": 60,
   "metadata": {},
   "outputs": [
    {
     "data": {
      "text/plain": [
       "1739"
      ]
     },
     "execution_count": 60,
     "metadata": {},
     "output_type": "execute_result"
    }
   ],
   "source": [
    "# sense check for diversity of recommendations\n",
    "test_preds.item_id.nunique()"
   ]
  },
  {
   "attachments": {},
   "cell_type": "markdown",
   "metadata": {},
   "source": [
    "## 2.5. CatBoostClassifier"
   ]
  },
  {
   "attachments": {},
   "cell_type": "markdown",
   "metadata": {},
   "source": [
    "### 2.5.1. Data Preparation"
   ]
  },
  {
   "attachments": {},
   "cell_type": "markdown",
   "metadata": {},
   "source": [
    "Now, we need to creat 0/1 as indication of interaction:\n",
    "\n",
    "- positive event -- 1, if watch_pct is not null;\n",
    "- negative venet -- 0 otherwise"
   ]
  },
  {
   "cell_type": "code",
   "execution_count": 61,
   "metadata": {},
   "outputs": [
    {
     "data": {
      "text/plain": [
       "(77563, 8)"
      ]
     },
     "execution_count": 61,
     "metadata": {},
     "output_type": "execute_result"
    }
   ],
   "source": [
    "positive_preds = pd.merge(test_preds, local_test, how = 'inner', on = ['user_id', 'item_id'])\n",
    "positive_preds['target'] = 1\n",
    "positive_preds.shape"
   ]
  },
  {
   "cell_type": "code",
   "execution_count": 62,
   "metadata": {},
   "outputs": [
    {
     "data": {
      "text/plain": [
       "(273965, 8)"
      ]
     },
     "execution_count": 62,
     "metadata": {},
     "output_type": "execute_result"
    }
   ],
   "source": [
    "negative_preds = pd.merge(test_preds, local_test, how = 'left', on = ['user_id', 'item_id'])\n",
    "negative_preds = negative_preds.loc[negative_preds['watched_pct'].isnull()].sample(frac = .2)\n",
    "negative_preds['target'] = 0\n",
    "negative_preds.shape"
   ]
  },
  {
   "cell_type": "code",
   "execution_count": 63,
   "metadata": {},
   "outputs": [],
   "source": [
    "# random split to train ranker\n",
    "train_users, test_users = train_test_split(\n",
    "    local_test['user_id'].unique(),\n",
    "    test_size = .2,\n",
    "    random_state = 13\n",
    "    )"
   ]
  },
  {
   "cell_type": "code",
   "execution_count": 64,
   "metadata": {},
   "outputs": [],
   "source": [
    "cbm_train_set = shuffle(\n",
    "    pd.concat(\n",
    "    [positive_preds.loc[positive_preds['user_id'].isin(train_users)],\n",
    "    negative_preds.loc[negative_preds['user_id'].isin(train_users)]]\n",
    "    )\n",
    ")"
   ]
  },
  {
   "cell_type": "code",
   "execution_count": 65,
   "metadata": {},
   "outputs": [],
   "source": [
    "cbm_test_set = shuffle(\n",
    "    pd.concat(\n",
    "    [positive_preds.loc[positive_preds['user_id'].isin(test_users)],\n",
    "    negative_preds.loc[negative_preds['user_id'].isin(test_users)]]\n",
    "    )\n",
    ")"
   ]
  },
  {
   "cell_type": "code",
   "execution_count": 66,
   "metadata": {},
   "outputs": [
    {
     "name": "stdout",
     "output_type": "stream",
     "text": [
      "TRAIN:             user_id           rank     total_dur   watched_pct         target\n",
      "count  2.810400e+05  281040.000000  6.186200e+04  61862.000000  281040.000000\n",
      "mean   5.494367e+05       5.293005  1.860190e+04     65.297727       0.220118\n",
      "std    3.166136e+05       2.884938  3.902798e+04     36.847643       0.414327\n",
      "min    1.100000e+01       1.000000  3.010000e+02      0.000000       0.000000\n",
      "25%    2.751300e+05       3.000000  4.006250e+03     25.000000       0.000000\n",
      "50%    5.496500e+05       5.000000  7.802000e+03     80.000000       0.000000\n",
      "75%    8.239755e+05       8.000000  2.266775e+04    100.000000       0.000000\n",
      "max    1.097528e+06      10.000000  3.127021e+06    100.000000       1.000000 \n",
      ", TEST:             user_id          rank     total_dur   watched_pct        target\n",
      "count  7.048800e+04  70488.000000  1.570100e+04  15701.000000  70488.000000\n",
      "mean   5.470409e+05      5.287794  1.921161e+04     64.979492      0.222747\n",
      "std    3.170130e+05      2.885783  3.789257e+04     36.952236      0.416093\n",
      "min    1.060000e+02      1.000000  3.010000e+02      0.000000      0.000000\n",
      "25%    2.687400e+05      3.000000  3.875000e+03     25.000000      0.000000\n",
      "50%    5.487215e+05      5.000000  7.764000e+03     80.000000      0.000000\n",
      "75%    8.210700e+05      8.000000  2.292200e+04    100.000000      0.000000\n",
      "max    1.097486e+06     10.000000  1.083250e+06    100.000000      1.000000\n"
     ]
    }
   ],
   "source": [
    "print(f'TRAIN: {cbm_train_set.describe()} \\n, TEST: {cbm_test_set.describe()}')"
   ]
  },
  {
   "cell_type": "code",
   "execution_count": 67,
   "metadata": {},
   "outputs": [],
   "source": [
    "# in this tutorial, I will not do any feature aggregation - use default ones from data\n",
    "USER_FEATURES = ['age', 'income', 'sex', 'kids_flg']\n",
    "ITEM_FEATURES = ['content_type', 'release_year', 'for_kids', 'age_rating']"
   ]
  },
  {
   "cell_type": "code",
   "execution_count": 68,
   "metadata": {},
   "outputs": [],
   "source": [
    "# joins user features\n",
    "cbm_train_set = pd.merge(cbm_train_set, users_data[['user_id'] + USER_FEATURES],\n",
    "                         how = 'left', on = ['user_id'])\n",
    "cbm_test_set = pd.merge(cbm_test_set, users_data[['user_id'] + USER_FEATURES],\n",
    "                        how = 'left', on = ['user_id'])\n"
   ]
  },
  {
   "cell_type": "code",
   "execution_count": 69,
   "metadata": {},
   "outputs": [],
   "source": [
    "# joins item features\n",
    "cbm_train_set = pd.merge(cbm_train_set, movies_metadata[['item_id'] + ITEM_FEATURES],\n",
    "                         how = 'left', on = ['item_id'])\n",
    "cbm_test_set = pd.merge(cbm_test_set, movies_metadata[['item_id'] + ITEM_FEATURES],\n",
    "                        how = 'left', on = ['item_id'])\n"
   ]
  },
  {
   "cell_type": "code",
   "execution_count": 70,
   "metadata": {},
   "outputs": [
    {
     "name": "stdout",
     "output_type": "stream",
     "text": [
      "(281040, 16) (70488, 16)\n"
     ]
    }
   ],
   "source": [
    "print(cbm_train_set.shape, cbm_test_set.shape)"
   ]
  },
  {
   "cell_type": "code",
   "execution_count": 71,
   "metadata": {},
   "outputs": [
    {
     "data": {
      "text/html": [
       "<div>\n",
       "<style scoped>\n",
       "    .dataframe tbody tr th:only-of-type {\n",
       "        vertical-align: middle;\n",
       "    }\n",
       "\n",
       "    .dataframe tbody tr th {\n",
       "        vertical-align: top;\n",
       "    }\n",
       "\n",
       "    .dataframe thead th {\n",
       "        text-align: right;\n",
       "    }\n",
       "</style>\n",
       "<table border=\"1\" class=\"dataframe\">\n",
       "  <thead>\n",
       "    <tr style=\"text-align: right;\">\n",
       "      <th></th>\n",
       "      <th>user_id</th>\n",
       "      <th>item_id</th>\n",
       "      <th>rank</th>\n",
       "      <th>item_name</th>\n",
       "      <th>last_watch_dt</th>\n",
       "      <th>total_dur</th>\n",
       "      <th>watched_pct</th>\n",
       "      <th>target</th>\n",
       "      <th>age</th>\n",
       "      <th>income</th>\n",
       "      <th>sex</th>\n",
       "      <th>kids_flg</th>\n",
       "      <th>content_type</th>\n",
       "      <th>release_year</th>\n",
       "      <th>for_kids</th>\n",
       "      <th>age_rating</th>\n",
       "    </tr>\n",
       "  </thead>\n",
       "  <tbody>\n",
       "    <tr>\n",
       "      <th>0</th>\n",
       "      <td>885473</td>\n",
       "      <td>13865</td>\n",
       "      <td>3</td>\n",
       "      <td>Девятаев</td>\n",
       "      <td>NaT</td>\n",
       "      <td>NaN</td>\n",
       "      <td>NaN</td>\n",
       "      <td>0</td>\n",
       "      <td>age_35_44</td>\n",
       "      <td>income_20_40</td>\n",
       "      <td>М</td>\n",
       "      <td>0.0</td>\n",
       "      <td>film</td>\n",
       "      <td>2021.0</td>\n",
       "      <td>NaN</td>\n",
       "      <td>12.0</td>\n",
       "    </tr>\n",
       "    <tr>\n",
       "      <th>1</th>\n",
       "      <td>995779</td>\n",
       "      <td>142</td>\n",
       "      <td>3</td>\n",
       "      <td>Маша</td>\n",
       "      <td>NaT</td>\n",
       "      <td>NaN</td>\n",
       "      <td>NaN</td>\n",
       "      <td>0</td>\n",
       "      <td>age_35_44</td>\n",
       "      <td>income_20_40</td>\n",
       "      <td>Ж</td>\n",
       "      <td>1.0</td>\n",
       "      <td>film</td>\n",
       "      <td>2020.0</td>\n",
       "      <td>NaN</td>\n",
       "      <td>16.0</td>\n",
       "    </tr>\n",
       "    <tr>\n",
       "      <th>2</th>\n",
       "      <td>908959</td>\n",
       "      <td>14431</td>\n",
       "      <td>10</td>\n",
       "      <td>Приворот. Чёрное венчание</td>\n",
       "      <td>NaT</td>\n",
       "      <td>NaN</td>\n",
       "      <td>NaN</td>\n",
       "      <td>0</td>\n",
       "      <td>age_65_inf</td>\n",
       "      <td>income_20_40</td>\n",
       "      <td>М</td>\n",
       "      <td>0.0</td>\n",
       "      <td>film</td>\n",
       "      <td>2021.0</td>\n",
       "      <td>NaN</td>\n",
       "      <td>16.0</td>\n",
       "    </tr>\n",
       "    <tr>\n",
       "      <th>3</th>\n",
       "      <td>159853</td>\n",
       "      <td>12995</td>\n",
       "      <td>7</td>\n",
       "      <td>Восемь сотен</td>\n",
       "      <td>2021-08-06</td>\n",
       "      <td>819.0</td>\n",
       "      <td>9.0</td>\n",
       "      <td>1</td>\n",
       "      <td>age_25_34</td>\n",
       "      <td>income_20_40</td>\n",
       "      <td>Ж</td>\n",
       "      <td>0.0</td>\n",
       "      <td>film</td>\n",
       "      <td>2020.0</td>\n",
       "      <td>NaN</td>\n",
       "      <td>18.0</td>\n",
       "    </tr>\n",
       "    <tr>\n",
       "      <th>4</th>\n",
       "      <td>468637</td>\n",
       "      <td>7626</td>\n",
       "      <td>5</td>\n",
       "      <td>Мстители: Война бесконечности</td>\n",
       "      <td>NaT</td>\n",
       "      <td>NaN</td>\n",
       "      <td>NaN</td>\n",
       "      <td>0</td>\n",
       "      <td>age_35_44</td>\n",
       "      <td>income_20_40</td>\n",
       "      <td>М</td>\n",
       "      <td>1.0</td>\n",
       "      <td>film</td>\n",
       "      <td>2018.0</td>\n",
       "      <td>NaN</td>\n",
       "      <td>16.0</td>\n",
       "    </tr>\n",
       "  </tbody>\n",
       "</table>\n",
       "</div>"
      ],
      "text/plain": [
       "   user_id item_id  rank                      item_name last_watch_dt  \\\n",
       "0   885473   13865     3                       Девятаев           NaT   \n",
       "1   995779     142     3                           Маша           NaT   \n",
       "2   908959   14431    10      Приворот. Чёрное венчание           NaT   \n",
       "3   159853   12995     7                   Восемь сотен    2021-08-06   \n",
       "4   468637    7626     5  Мстители: Война бесконечности           NaT   \n",
       "\n",
       "   total_dur  watched_pct  target         age        income sex  kids_flg  \\\n",
       "0        NaN          NaN       0   age_35_44  income_20_40   М       0.0   \n",
       "1        NaN          NaN       0   age_35_44  income_20_40   Ж       1.0   \n",
       "2        NaN          NaN       0  age_65_inf  income_20_40   М       0.0   \n",
       "3      819.0          9.0       1   age_25_34  income_20_40   Ж       0.0   \n",
       "4        NaN          NaN       0   age_35_44  income_20_40   М       1.0   \n",
       "\n",
       "  content_type  release_year  for_kids  age_rating  \n",
       "0         film        2021.0       NaN        12.0  \n",
       "1         film        2020.0       NaN        16.0  \n",
       "2         film        2021.0       NaN        16.0  \n",
       "3         film        2020.0       NaN        18.0  \n",
       "4         film        2018.0       NaN        16.0  "
      ]
     },
     "execution_count": 71,
     "metadata": {},
     "output_type": "execute_result"
    }
   ],
   "source": [
    "cbm_train_set.head()"
   ]
  },
  {
   "cell_type": "code",
   "execution_count": 72,
   "metadata": {},
   "outputs": [],
   "source": [
    "ID_COLS = ['user_id', 'item_id']\n",
    "TARGET = ['target']\n",
    "CATEGORICAL_COLS = ['age', 'income', 'sex', 'content_type']\n",
    "DROP_COLS = ['item_name', 'last_watch_dt', 'watched_pct', 'total_dur']"
   ]
  },
  {
   "cell_type": "code",
   "execution_count": 73,
   "metadata": {},
   "outputs": [
    {
     "name": "stdout",
     "output_type": "stream",
     "text": [
      "(281040, 9) (70488, 9)\n"
     ]
    }
   ],
   "source": [
    "X_train, y_train = cbm_train_set.drop(ID_COLS + DROP_COLS + TARGET, axis = 1), cbm_train_set[TARGET]\n",
    "X_test, y_test = cbm_test_set.drop(ID_COLS + DROP_COLS + TARGET, axis = 1), cbm_test_set[TARGET]\n",
    "print(X_train.shape, X_test.shape)"
   ]
  },
  {
   "cell_type": "code",
   "execution_count": 74,
   "metadata": {},
   "outputs": [
    {
     "data": {
      "text/html": [
       "<div>\n",
       "<style scoped>\n",
       "    .dataframe tbody tr th:only-of-type {\n",
       "        vertical-align: middle;\n",
       "    }\n",
       "\n",
       "    .dataframe tbody tr th {\n",
       "        vertical-align: top;\n",
       "    }\n",
       "\n",
       "    .dataframe thead th {\n",
       "        text-align: right;\n",
       "    }\n",
       "</style>\n",
       "<table border=\"1\" class=\"dataframe\">\n",
       "  <thead>\n",
       "    <tr style=\"text-align: right;\">\n",
       "      <th></th>\n",
       "      <th>rank</th>\n",
       "      <th>age</th>\n",
       "      <th>income</th>\n",
       "      <th>sex</th>\n",
       "      <th>kids_flg</th>\n",
       "      <th>content_type</th>\n",
       "      <th>release_year</th>\n",
       "      <th>for_kids</th>\n",
       "      <th>age_rating</th>\n",
       "    </tr>\n",
       "  </thead>\n",
       "  <tbody>\n",
       "    <tr>\n",
       "      <th>0</th>\n",
       "      <td>3</td>\n",
       "      <td>age_35_44</td>\n",
       "      <td>income_20_40</td>\n",
       "      <td>М</td>\n",
       "      <td>0.0</td>\n",
       "      <td>film</td>\n",
       "      <td>2021.0</td>\n",
       "      <td>NaN</td>\n",
       "      <td>12.0</td>\n",
       "    </tr>\n",
       "    <tr>\n",
       "      <th>1</th>\n",
       "      <td>3</td>\n",
       "      <td>age_35_44</td>\n",
       "      <td>income_20_40</td>\n",
       "      <td>Ж</td>\n",
       "      <td>1.0</td>\n",
       "      <td>film</td>\n",
       "      <td>2020.0</td>\n",
       "      <td>NaN</td>\n",
       "      <td>16.0</td>\n",
       "    </tr>\n",
       "    <tr>\n",
       "      <th>2</th>\n",
       "      <td>10</td>\n",
       "      <td>age_65_inf</td>\n",
       "      <td>income_20_40</td>\n",
       "      <td>М</td>\n",
       "      <td>0.0</td>\n",
       "      <td>film</td>\n",
       "      <td>2021.0</td>\n",
       "      <td>NaN</td>\n",
       "      <td>16.0</td>\n",
       "    </tr>\n",
       "    <tr>\n",
       "      <th>3</th>\n",
       "      <td>7</td>\n",
       "      <td>age_25_34</td>\n",
       "      <td>income_20_40</td>\n",
       "      <td>Ж</td>\n",
       "      <td>0.0</td>\n",
       "      <td>film</td>\n",
       "      <td>2020.0</td>\n",
       "      <td>NaN</td>\n",
       "      <td>18.0</td>\n",
       "    </tr>\n",
       "    <tr>\n",
       "      <th>4</th>\n",
       "      <td>5</td>\n",
       "      <td>age_35_44</td>\n",
       "      <td>income_20_40</td>\n",
       "      <td>М</td>\n",
       "      <td>1.0</td>\n",
       "      <td>film</td>\n",
       "      <td>2018.0</td>\n",
       "      <td>NaN</td>\n",
       "      <td>16.0</td>\n",
       "    </tr>\n",
       "  </tbody>\n",
       "</table>\n",
       "</div>"
      ],
      "text/plain": [
       "   rank         age        income sex  kids_flg content_type  release_year  \\\n",
       "0     3   age_35_44  income_20_40   М       0.0         film        2021.0   \n",
       "1     3   age_35_44  income_20_40   Ж       1.0         film        2020.0   \n",
       "2    10  age_65_inf  income_20_40   М       0.0         film        2021.0   \n",
       "3     7   age_25_34  income_20_40   Ж       0.0         film        2020.0   \n",
       "4     5   age_35_44  income_20_40   М       1.0         film        2018.0   \n",
       "\n",
       "   for_kids  age_rating  \n",
       "0       NaN        12.0  \n",
       "1       NaN        16.0  \n",
       "2       NaN        16.0  \n",
       "3       NaN        18.0  \n",
       "4       NaN        16.0  "
      ]
     },
     "execution_count": 74,
     "metadata": {},
     "output_type": "execute_result"
    }
   ],
   "source": [
    "X_train.head()"
   ]
  },
  {
   "cell_type": "code",
   "execution_count": 75,
   "metadata": {},
   "outputs": [],
   "source": [
    "X_train = X_train.fillna(X_train.mode().iloc[0])\n",
    "X_test = X_test.fillna(X_test.mode().iloc[0])"
   ]
  },
  {
   "attachments": {},
   "cell_type": "markdown",
   "metadata": {},
   "source": [
    "## 2.5.2. Train Model"
   ]
  },
  {
   "cell_type": "code",
   "execution_count": 76,
   "metadata": {},
   "outputs": [],
   "source": [
    "cbm_classifier = CatBoostClassifier(\n",
    "    loss_function = 'CrossEntropy',\n",
    "    iterations = 5000,\n",
    "    learning_rate = .1,\n",
    "    depth = 6,\n",
    "    random_state = 1234,\n",
    "    verbose = True\n",
    ")"
   ]
  },
  {
   "cell_type": "code",
   "execution_count": 77,
   "metadata": {},
   "outputs": [
    {
     "name": "stdout",
     "output_type": "stream",
     "text": [
      "0:\tlearn: 0.6506261\ttest: 0.6511166\tbest: 0.6511166 (0)\ttotal: 190ms\tremaining: 15m 49s\n",
      "1:\tlearn: 0.6177387\ttest: 0.6185989\tbest: 0.6185989 (1)\ttotal: 254ms\tremaining: 10m 34s\n",
      "2:\tlearn: 0.5920360\ttest: 0.5932559\tbest: 0.5932559 (2)\ttotal: 312ms\tremaining: 8m 40s\n",
      "3:\tlearn: 0.5711390\ttest: 0.5727243\tbest: 0.5727243 (3)\ttotal: 398ms\tremaining: 8m 17s\n",
      "4:\tlearn: 0.5546900\ttest: 0.5565884\tbest: 0.5565884 (4)\ttotal: 487ms\tremaining: 8m 6s\n",
      "5:\tlearn: 0.5417376\ttest: 0.5439034\tbest: 0.5439034 (5)\ttotal: 569ms\tremaining: 7m 53s\n",
      "6:\tlearn: 0.5328398\ttest: 0.5352607\tbest: 0.5352607 (6)\ttotal: 654ms\tremaining: 7m 46s\n",
      "7:\tlearn: 0.5248394\ttest: 0.5275009\tbest: 0.5275009 (7)\ttotal: 731ms\tremaining: 7m 36s\n",
      "8:\tlearn: 0.5186023\ttest: 0.5214660\tbest: 0.5214660 (8)\ttotal: 802ms\tremaining: 7m 24s\n",
      "9:\tlearn: 0.5139162\ttest: 0.5169973\tbest: 0.5169973 (9)\ttotal: 866ms\tremaining: 7m 12s\n",
      "10:\tlearn: 0.5096024\ttest: 0.5128958\tbest: 0.5128958 (10)\ttotal: 923ms\tremaining: 6m 58s\n",
      "11:\tlearn: 0.5066625\ttest: 0.5101224\tbest: 0.5101224 (11)\ttotal: 975ms\tremaining: 6m 45s\n",
      "12:\tlearn: 0.5038075\ttest: 0.5074207\tbest: 0.5074207 (12)\ttotal: 1.04s\tremaining: 6m 37s\n",
      "13:\tlearn: 0.5019997\ttest: 0.5057473\tbest: 0.5057473 (13)\ttotal: 1.09s\tremaining: 6m 30s\n",
      "14:\tlearn: 0.4999345\ttest: 0.5037943\tbest: 0.5037943 (14)\ttotal: 1.17s\tremaining: 6m 27s\n",
      "15:\tlearn: 0.4984911\ttest: 0.5024667\tbest: 0.5024667 (15)\ttotal: 1.25s\tremaining: 6m 28s\n",
      "16:\tlearn: 0.4971387\ttest: 0.5012542\tbest: 0.5012542 (16)\ttotal: 1.33s\tremaining: 6m 28s\n",
      "17:\tlearn: 0.4963435\ttest: 0.5005354\tbest: 0.5005354 (17)\ttotal: 1.37s\tremaining: 6m 20s\n",
      "18:\tlearn: 0.4956250\ttest: 0.4999228\tbest: 0.4999228 (18)\ttotal: 1.44s\tremaining: 6m 18s\n",
      "19:\tlearn: 0.4948494\ttest: 0.4992305\tbest: 0.4992305 (19)\ttotal: 1.51s\tremaining: 6m 15s\n",
      "20:\tlearn: 0.4944608\ttest: 0.4989140\tbest: 0.4989140 (20)\ttotal: 1.61s\tremaining: 6m 21s\n",
      "21:\tlearn: 0.4938623\ttest: 0.4984014\tbest: 0.4984014 (21)\ttotal: 1.67s\tremaining: 6m 18s\n",
      "22:\tlearn: 0.4934438\ttest: 0.4980327\tbest: 0.4980327 (22)\ttotal: 1.79s\tremaining: 6m 27s\n",
      "23:\tlearn: 0.4931893\ttest: 0.4978451\tbest: 0.4978451 (23)\ttotal: 1.85s\tremaining: 6m 24s\n",
      "24:\tlearn: 0.4928651\ttest: 0.4975978\tbest: 0.4975978 (24)\ttotal: 1.92s\tremaining: 6m 21s\n",
      "25:\tlearn: 0.4925668\ttest: 0.4973740\tbest: 0.4973740 (25)\ttotal: 1.99s\tremaining: 6m 21s\n",
      "26:\tlearn: 0.4923906\ttest: 0.4972618\tbest: 0.4972618 (26)\ttotal: 2.07s\tremaining: 6m 21s\n",
      "27:\tlearn: 0.4920796\ttest: 0.4970067\tbest: 0.4970067 (27)\ttotal: 2.12s\tremaining: 6m 16s\n",
      "28:\tlearn: 0.4918933\ttest: 0.4968547\tbest: 0.4968547 (28)\ttotal: 2.22s\tremaining: 6m 19s\n",
      "29:\tlearn: 0.4917983\ttest: 0.4967900\tbest: 0.4967900 (29)\ttotal: 2.34s\tremaining: 6m 27s\n",
      "30:\tlearn: 0.4915371\ttest: 0.4965819\tbest: 0.4965819 (30)\ttotal: 2.41s\tremaining: 6m 25s\n",
      "31:\tlearn: 0.4914840\ttest: 0.4965611\tbest: 0.4965611 (31)\ttotal: 2.48s\tremaining: 6m 24s\n",
      "32:\tlearn: 0.4912622\ttest: 0.4963721\tbest: 0.4963721 (32)\ttotal: 2.55s\tremaining: 6m 24s\n",
      "33:\tlearn: 0.4911125\ttest: 0.4962761\tbest: 0.4962761 (33)\ttotal: 2.62s\tremaining: 6m 22s\n",
      "34:\tlearn: 0.4909622\ttest: 0.4961640\tbest: 0.4961640 (34)\ttotal: 2.68s\tremaining: 6m 19s\n",
      "35:\tlearn: 0.4908910\ttest: 0.4961301\tbest: 0.4961301 (35)\ttotal: 2.73s\tremaining: 6m 16s\n",
      "36:\tlearn: 0.4908191\ttest: 0.4960751\tbest: 0.4960751 (36)\ttotal: 2.79s\tremaining: 6m 14s\n",
      "37:\tlearn: 0.4907828\ttest: 0.4960674\tbest: 0.4960674 (37)\ttotal: 2.83s\tremaining: 6m 10s\n",
      "38:\tlearn: 0.4907374\ttest: 0.4960630\tbest: 0.4960630 (38)\ttotal: 2.89s\tremaining: 6m 7s\n",
      "39:\tlearn: 0.4906891\ttest: 0.4960449\tbest: 0.4960449 (39)\ttotal: 2.93s\tremaining: 6m 3s\n",
      "40:\tlearn: 0.4906596\ttest: 0.4960419\tbest: 0.4960419 (40)\ttotal: 2.98s\tremaining: 6m 1s\n",
      "41:\tlearn: 0.4905914\ttest: 0.4959915\tbest: 0.4959915 (41)\ttotal: 3.05s\tremaining: 5m 59s\n",
      "42:\tlearn: 0.4905266\ttest: 0.4959554\tbest: 0.4959554 (42)\ttotal: 3.12s\tremaining: 5m 59s\n",
      "43:\tlearn: 0.4905177\ttest: 0.4959583\tbest: 0.4959554 (42)\ttotal: 3.18s\tremaining: 5m 58s\n",
      "44:\tlearn: 0.4904412\ttest: 0.4958953\tbest: 0.4958953 (44)\ttotal: 3.25s\tremaining: 5m 57s\n",
      "45:\tlearn: 0.4903891\ttest: 0.4958671\tbest: 0.4958671 (45)\ttotal: 3.31s\tremaining: 5m 56s\n",
      "46:\tlearn: 0.4903822\ttest: 0.4958678\tbest: 0.4958671 (45)\ttotal: 3.35s\tremaining: 5m 53s\n",
      "47:\tlearn: 0.4903350\ttest: 0.4958506\tbest: 0.4958506 (47)\ttotal: 3.4s\tremaining: 5m 50s\n",
      "48:\tlearn: 0.4903048\ttest: 0.4958352\tbest: 0.4958352 (48)\ttotal: 3.44s\tremaining: 5m 48s\n",
      "49:\tlearn: 0.4902791\ttest: 0.4958212\tbest: 0.4958212 (49)\ttotal: 3.5s\tremaining: 5m 46s\n",
      "50:\tlearn: 0.4902440\ttest: 0.4957940\tbest: 0.4957940 (50)\ttotal: 3.56s\tremaining: 5m 45s\n",
      "51:\tlearn: 0.4902226\ttest: 0.4957924\tbest: 0.4957924 (51)\ttotal: 3.62s\tremaining: 5m 44s\n",
      "52:\tlearn: 0.4901865\ttest: 0.4957828\tbest: 0.4957828 (52)\ttotal: 3.68s\tremaining: 5m 43s\n",
      "53:\tlearn: 0.4901709\ttest: 0.4957793\tbest: 0.4957793 (53)\ttotal: 3.73s\tremaining: 5m 41s\n",
      "54:\tlearn: 0.4901423\ttest: 0.4957675\tbest: 0.4957675 (54)\ttotal: 3.77s\tremaining: 5m 39s\n",
      "55:\tlearn: 0.4901123\ttest: 0.4957506\tbest: 0.4957506 (55)\ttotal: 3.83s\tremaining: 5m 38s\n",
      "56:\tlearn: 0.4900926\ttest: 0.4957474\tbest: 0.4957474 (56)\ttotal: 3.88s\tremaining: 5m 36s\n",
      "57:\tlearn: 0.4900625\ttest: 0.4957247\tbest: 0.4957247 (57)\ttotal: 3.94s\tremaining: 5m 35s\n",
      "58:\tlearn: 0.4900501\ttest: 0.4957250\tbest: 0.4957247 (57)\ttotal: 3.99s\tremaining: 5m 33s\n",
      "59:\tlearn: 0.4899960\ttest: 0.4957234\tbest: 0.4957234 (59)\ttotal: 4.05s\tremaining: 5m 33s\n",
      "60:\tlearn: 0.4899296\ttest: 0.4956727\tbest: 0.4956727 (60)\ttotal: 4.11s\tremaining: 5m 33s\n",
      "61:\tlearn: 0.4899282\ttest: 0.4956747\tbest: 0.4956727 (60)\ttotal: 4.16s\tremaining: 5m 30s\n",
      "62:\tlearn: 0.4899029\ttest: 0.4956660\tbest: 0.4956660 (62)\ttotal: 4.21s\tremaining: 5m 29s\n",
      "63:\tlearn: 0.4898929\ttest: 0.4956649\tbest: 0.4956649 (63)\ttotal: 4.26s\tremaining: 5m 28s\n",
      "64:\tlearn: 0.4898914\ttest: 0.4956667\tbest: 0.4956649 (63)\ttotal: 4.31s\tremaining: 5m 27s\n",
      "65:\tlearn: 0.4898896\ttest: 0.4956668\tbest: 0.4956649 (63)\ttotal: 4.37s\tremaining: 5m 26s\n",
      "66:\tlearn: 0.4898394\ttest: 0.4956182\tbest: 0.4956182 (66)\ttotal: 4.42s\tremaining: 5m 25s\n",
      "67:\tlearn: 0.4898232\ttest: 0.4956143\tbest: 0.4956143 (67)\ttotal: 4.47s\tremaining: 5m 24s\n",
      "68:\tlearn: 0.4898187\ttest: 0.4956123\tbest: 0.4956123 (68)\ttotal: 4.51s\tremaining: 5m 22s\n",
      "69:\tlearn: 0.4897919\ttest: 0.4956013\tbest: 0.4956013 (69)\ttotal: 4.56s\tremaining: 5m 21s\n",
      "70:\tlearn: 0.4897825\ttest: 0.4955952\tbest: 0.4955952 (70)\ttotal: 4.62s\tremaining: 5m 20s\n",
      "71:\tlearn: 0.4897795\ttest: 0.4955922\tbest: 0.4955922 (71)\ttotal: 4.68s\tremaining: 5m 20s\n",
      "72:\tlearn: 0.4897765\ttest: 0.4955932\tbest: 0.4955922 (71)\ttotal: 4.71s\tremaining: 5m 17s\n",
      "73:\tlearn: 0.4897313\ttest: 0.4955717\tbest: 0.4955717 (73)\ttotal: 4.76s\tremaining: 5m 16s\n",
      "74:\tlearn: 0.4897073\ttest: 0.4955567\tbest: 0.4955567 (74)\ttotal: 4.81s\tremaining: 5m 15s\n",
      "75:\tlearn: 0.4896929\ttest: 0.4955532\tbest: 0.4955532 (75)\ttotal: 4.87s\tremaining: 5m 15s\n",
      "76:\tlearn: 0.4896820\ttest: 0.4955480\tbest: 0.4955480 (76)\ttotal: 4.91s\tremaining: 5m 13s\n",
      "77:\tlearn: 0.4896800\ttest: 0.4955476\tbest: 0.4955476 (77)\ttotal: 4.97s\tremaining: 5m 13s\n",
      "78:\tlearn: 0.4896772\ttest: 0.4955477\tbest: 0.4955476 (77)\ttotal: 5.02s\tremaining: 5m 12s\n",
      "79:\tlearn: 0.4896665\ttest: 0.4955541\tbest: 0.4955476 (77)\ttotal: 5.08s\tremaining: 5m 12s\n",
      "80:\tlearn: 0.4896566\ttest: 0.4955446\tbest: 0.4955446 (80)\ttotal: 5.12s\tremaining: 5m 10s\n",
      "81:\tlearn: 0.4896507\ttest: 0.4955413\tbest: 0.4955413 (81)\ttotal: 5.2s\tremaining: 5m 11s\n",
      "82:\tlearn: 0.4896405\ttest: 0.4955403\tbest: 0.4955403 (82)\ttotal: 5.26s\tremaining: 5m 11s\n",
      "83:\tlearn: 0.4896385\ttest: 0.4955410\tbest: 0.4955403 (82)\ttotal: 5.3s\tremaining: 5m 10s\n",
      "84:\tlearn: 0.4896230\ttest: 0.4955346\tbest: 0.4955346 (84)\ttotal: 5.36s\tremaining: 5m 10s\n",
      "85:\tlearn: 0.4895915\ttest: 0.4955201\tbest: 0.4955201 (85)\ttotal: 5.41s\tremaining: 5m 9s\n",
      "86:\tlearn: 0.4895484\ttest: 0.4954831\tbest: 0.4954831 (86)\ttotal: 5.46s\tremaining: 5m 8s\n",
      "87:\tlearn: 0.4895302\ttest: 0.4954764\tbest: 0.4954764 (87)\ttotal: 5.52s\tremaining: 5m 8s\n",
      "88:\tlearn: 0.4895080\ttest: 0.4954608\tbest: 0.4954608 (88)\ttotal: 5.59s\tremaining: 5m 8s\n",
      "89:\tlearn: 0.4894861\ttest: 0.4954596\tbest: 0.4954596 (89)\ttotal: 5.65s\tremaining: 5m 8s\n",
      "90:\tlearn: 0.4894856\ttest: 0.4954586\tbest: 0.4954586 (90)\ttotal: 5.68s\tremaining: 5m 6s\n",
      "91:\tlearn: 0.4894683\ttest: 0.4954735\tbest: 0.4954586 (90)\ttotal: 5.74s\tremaining: 5m 6s\n",
      "92:\tlearn: 0.4894649\ttest: 0.4954716\tbest: 0.4954586 (90)\ttotal: 5.8s\tremaining: 5m 5s\n",
      "93:\tlearn: 0.4894632\ttest: 0.4954717\tbest: 0.4954586 (90)\ttotal: 5.84s\tremaining: 5m 5s\n",
      "94:\tlearn: 0.4894363\ttest: 0.4954495\tbest: 0.4954495 (94)\ttotal: 5.89s\tremaining: 5m 4s\n",
      "95:\tlearn: 0.4894136\ttest: 0.4954358\tbest: 0.4954358 (95)\ttotal: 5.96s\tremaining: 5m 4s\n",
      "96:\tlearn: 0.4894061\ttest: 0.4954387\tbest: 0.4954358 (95)\ttotal: 6.02s\tremaining: 5m 4s\n",
      "97:\tlearn: 0.4893930\ttest: 0.4954408\tbest: 0.4954358 (95)\ttotal: 6.07s\tremaining: 5m 3s\n",
      "98:\tlearn: 0.4893893\ttest: 0.4954412\tbest: 0.4954358 (95)\ttotal: 6.12s\tremaining: 5m 3s\n",
      "99:\tlearn: 0.4893857\ttest: 0.4954445\tbest: 0.4954358 (95)\ttotal: 6.18s\tremaining: 5m 2s\n",
      "100:\tlearn: 0.4893804\ttest: 0.4954485\tbest: 0.4954358 (95)\ttotal: 6.23s\tremaining: 5m 2s\n",
      "101:\tlearn: 0.4893723\ttest: 0.4954482\tbest: 0.4954358 (95)\ttotal: 6.3s\tremaining: 5m 2s\n",
      "102:\tlearn: 0.4893584\ttest: 0.4954477\tbest: 0.4954358 (95)\ttotal: 6.37s\tremaining: 5m 2s\n",
      "103:\tlearn: 0.4893525\ttest: 0.4954476\tbest: 0.4954358 (95)\ttotal: 6.41s\tremaining: 5m 1s\n",
      "104:\tlearn: 0.4893474\ttest: 0.4954455\tbest: 0.4954358 (95)\ttotal: 6.46s\tremaining: 5m 1s\n",
      "105:\tlearn: 0.4893214\ttest: 0.4954271\tbest: 0.4954271 (105)\ttotal: 6.52s\tremaining: 5m\n",
      "106:\tlearn: 0.4893113\ttest: 0.4954247\tbest: 0.4954247 (106)\ttotal: 6.57s\tremaining: 5m\n",
      "107:\tlearn: 0.4893064\ttest: 0.4954231\tbest: 0.4954231 (107)\ttotal: 6.61s\tremaining: 4m 59s\n",
      "108:\tlearn: 0.4892519\ttest: 0.4953768\tbest: 0.4953768 (108)\ttotal: 6.67s\tremaining: 4m 59s\n",
      "109:\tlearn: 0.4892448\ttest: 0.4953762\tbest: 0.4953762 (109)\ttotal: 6.72s\tremaining: 4m 58s\n",
      "110:\tlearn: 0.4892350\ttest: 0.4953743\tbest: 0.4953743 (110)\ttotal: 6.78s\tremaining: 4m 58s\n",
      "111:\tlearn: 0.4892320\ttest: 0.4953747\tbest: 0.4953743 (110)\ttotal: 6.84s\tremaining: 4m 58s\n",
      "112:\tlearn: 0.4892286\ttest: 0.4953747\tbest: 0.4953743 (110)\ttotal: 6.88s\tremaining: 4m 57s\n",
      "113:\tlearn: 0.4891994\ttest: 0.4953519\tbest: 0.4953519 (113)\ttotal: 6.96s\tremaining: 4m 58s\n",
      "114:\tlearn: 0.4891949\ttest: 0.4953516\tbest: 0.4953516 (114)\ttotal: 7.01s\tremaining: 4m 57s\n",
      "115:\tlearn: 0.4891941\ttest: 0.4953510\tbest: 0.4953510 (115)\ttotal: 7.05s\tremaining: 4m 56s\n",
      "116:\tlearn: 0.4891870\ttest: 0.4953472\tbest: 0.4953472 (116)\ttotal: 7.12s\tremaining: 4m 57s\n",
      "117:\tlearn: 0.4891583\ttest: 0.4953251\tbest: 0.4953251 (117)\ttotal: 7.2s\tremaining: 4m 58s\n",
      "118:\tlearn: 0.4890965\ttest: 0.4952880\tbest: 0.4952880 (118)\ttotal: 7.26s\tremaining: 4m 58s\n",
      "119:\tlearn: 0.4890911\ttest: 0.4952891\tbest: 0.4952880 (118)\ttotal: 7.32s\tremaining: 4m 57s\n",
      "120:\tlearn: 0.4890784\ttest: 0.4952906\tbest: 0.4952880 (118)\ttotal: 7.38s\tremaining: 4m 57s\n",
      "121:\tlearn: 0.4890738\ttest: 0.4952926\tbest: 0.4952880 (118)\ttotal: 7.43s\tremaining: 4m 56s\n",
      "122:\tlearn: 0.4890615\ttest: 0.4952884\tbest: 0.4952880 (118)\ttotal: 7.5s\tremaining: 4m 57s\n",
      "123:\tlearn: 0.4890482\ttest: 0.4952914\tbest: 0.4952880 (118)\ttotal: 7.55s\tremaining: 4m 57s\n",
      "124:\tlearn: 0.4890467\ttest: 0.4952880\tbest: 0.4952880 (124)\ttotal: 7.6s\tremaining: 4m 56s\n",
      "125:\tlearn: 0.4890463\ttest: 0.4952891\tbest: 0.4952880 (124)\ttotal: 7.66s\tremaining: 4m 56s\n",
      "126:\tlearn: 0.4890403\ttest: 0.4952879\tbest: 0.4952879 (126)\ttotal: 7.71s\tremaining: 4m 55s\n",
      "127:\tlearn: 0.4889834\ttest: 0.4952545\tbest: 0.4952545 (127)\ttotal: 7.8s\tremaining: 4m 56s\n",
      "128:\tlearn: 0.4889758\ttest: 0.4952524\tbest: 0.4952524 (128)\ttotal: 7.86s\tremaining: 4m 56s\n",
      "129:\tlearn: 0.4889712\ttest: 0.4952537\tbest: 0.4952524 (128)\ttotal: 7.92s\tremaining: 4m 56s\n",
      "130:\tlearn: 0.4889670\ttest: 0.4952536\tbest: 0.4952524 (128)\ttotal: 7.96s\tremaining: 4m 56s\n",
      "131:\tlearn: 0.4889320\ttest: 0.4952135\tbest: 0.4952135 (131)\ttotal: 8.05s\tremaining: 4m 56s\n",
      "132:\tlearn: 0.4889119\ttest: 0.4951963\tbest: 0.4951963 (132)\ttotal: 8.11s\tremaining: 4m 56s\n",
      "133:\tlearn: 0.4889035\ttest: 0.4951955\tbest: 0.4951955 (133)\ttotal: 8.17s\tremaining: 4m 56s\n",
      "134:\tlearn: 0.4888319\ttest: 0.4951361\tbest: 0.4951361 (134)\ttotal: 8.23s\tremaining: 4m 56s\n",
      "135:\tlearn: 0.4888318\ttest: 0.4951359\tbest: 0.4951359 (135)\ttotal: 8.27s\tremaining: 4m 55s\n",
      "136:\tlearn: 0.4888034\ttest: 0.4951334\tbest: 0.4951334 (136)\ttotal: 8.33s\tremaining: 4m 55s\n",
      "137:\tlearn: 0.4887871\ttest: 0.4951296\tbest: 0.4951296 (137)\ttotal: 8.4s\tremaining: 4m 55s\n",
      "138:\tlearn: 0.4887826\ttest: 0.4951305\tbest: 0.4951296 (137)\ttotal: 8.49s\tremaining: 4m 57s\n",
      "139:\tlearn: 0.4887751\ttest: 0.4951281\tbest: 0.4951281 (139)\ttotal: 8.63s\tremaining: 4m 59s\n",
      "140:\tlearn: 0.4887240\ttest: 0.4950955\tbest: 0.4950955 (140)\ttotal: 8.72s\tremaining: 5m\n",
      "141:\tlearn: 0.4886990\ttest: 0.4950792\tbest: 0.4950792 (141)\ttotal: 8.82s\tremaining: 5m 1s\n",
      "142:\tlearn: 0.4886853\ttest: 0.4950810\tbest: 0.4950792 (141)\ttotal: 8.9s\tremaining: 5m 2s\n",
      "143:\tlearn: 0.4886640\ttest: 0.4950814\tbest: 0.4950792 (141)\ttotal: 8.97s\tremaining: 5m 2s\n",
      "144:\tlearn: 0.4886326\ttest: 0.4950541\tbest: 0.4950541 (144)\ttotal: 9.04s\tremaining: 5m 2s\n",
      "145:\tlearn: 0.4886064\ttest: 0.4950413\tbest: 0.4950413 (145)\ttotal: 9.11s\tremaining: 5m 2s\n",
      "146:\tlearn: 0.4886059\ttest: 0.4950412\tbest: 0.4950412 (146)\ttotal: 9.18s\tremaining: 5m 2s\n",
      "147:\tlearn: 0.4885898\ttest: 0.4950406\tbest: 0.4950406 (147)\ttotal: 9.24s\tremaining: 5m 3s\n",
      "148:\tlearn: 0.4885808\ttest: 0.4950381\tbest: 0.4950381 (148)\ttotal: 9.34s\tremaining: 5m 4s\n",
      "149:\tlearn: 0.4885351\ttest: 0.4950065\tbest: 0.4950065 (149)\ttotal: 9.44s\tremaining: 5m 5s\n",
      "150:\tlearn: 0.4885271\ttest: 0.4950086\tbest: 0.4950065 (149)\ttotal: 9.52s\tremaining: 5m 5s\n",
      "151:\tlearn: 0.4884947\ttest: 0.4949864\tbest: 0.4949864 (151)\ttotal: 9.62s\tremaining: 5m 6s\n",
      "152:\tlearn: 0.4884490\ttest: 0.4949685\tbest: 0.4949685 (152)\ttotal: 9.71s\tremaining: 5m 7s\n",
      "153:\tlearn: 0.4884249\ttest: 0.4949692\tbest: 0.4949685 (152)\ttotal: 9.78s\tremaining: 5m 7s\n",
      "154:\tlearn: 0.4883991\ttest: 0.4949481\tbest: 0.4949481 (154)\ttotal: 9.86s\tremaining: 5m 8s\n",
      "155:\tlearn: 0.4883766\ttest: 0.4949306\tbest: 0.4949306 (155)\ttotal: 9.94s\tremaining: 5m 8s\n",
      "156:\tlearn: 0.4883531\ttest: 0.4949304\tbest: 0.4949304 (156)\ttotal: 10s\tremaining: 5m 8s\n",
      "157:\tlearn: 0.4883449\ttest: 0.4949330\tbest: 0.4949304 (156)\ttotal: 10.1s\tremaining: 5m 8s\n",
      "158:\tlearn: 0.4883410\ttest: 0.4949316\tbest: 0.4949304 (156)\ttotal: 10.1s\tremaining: 5m 8s\n",
      "159:\tlearn: 0.4883350\ttest: 0.4949334\tbest: 0.4949304 (156)\ttotal: 10.2s\tremaining: 5m 8s\n",
      "160:\tlearn: 0.4883219\ttest: 0.4949298\tbest: 0.4949298 (160)\ttotal: 10.3s\tremaining: 5m 8s\n",
      "161:\tlearn: 0.4883097\ttest: 0.4949329\tbest: 0.4949298 (160)\ttotal: 10.4s\tremaining: 5m 9s\n",
      "162:\tlearn: 0.4882890\ttest: 0.4949316\tbest: 0.4949298 (160)\ttotal: 10.4s\tremaining: 5m 9s\n",
      "163:\tlearn: 0.4882642\ttest: 0.4949197\tbest: 0.4949197 (163)\ttotal: 10.6s\tremaining: 5m 11s\n",
      "164:\tlearn: 0.4882543\ttest: 0.4949132\tbest: 0.4949132 (164)\ttotal: 10.6s\tremaining: 5m 11s\n",
      "165:\tlearn: 0.4882445\ttest: 0.4949147\tbest: 0.4949132 (164)\ttotal: 10.7s\tremaining: 5m 12s\n",
      "166:\tlearn: 0.4882341\ttest: 0.4949129\tbest: 0.4949129 (166)\ttotal: 10.8s\tremaining: 5m 13s\n",
      "167:\tlearn: 0.4882199\ttest: 0.4949176\tbest: 0.4949129 (166)\ttotal: 10.9s\tremaining: 5m 14s\n",
      "168:\tlearn: 0.4881982\ttest: 0.4949030\tbest: 0.4949030 (168)\ttotal: 11s\tremaining: 5m 15s\n",
      "169:\tlearn: 0.4881960\ttest: 0.4949037\tbest: 0.4949030 (168)\ttotal: 11.1s\tremaining: 5m 15s\n",
      "170:\tlearn: 0.4881836\ttest: 0.4948962\tbest: 0.4948962 (170)\ttotal: 11.2s\tremaining: 5m 15s\n",
      "171:\tlearn: 0.4881788\ttest: 0.4948949\tbest: 0.4948949 (171)\ttotal: 11.2s\tremaining: 5m 15s\n",
      "172:\tlearn: 0.4881713\ttest: 0.4948934\tbest: 0.4948934 (172)\ttotal: 11.3s\tremaining: 5m 15s\n",
      "173:\tlearn: 0.4881506\ttest: 0.4948910\tbest: 0.4948910 (173)\ttotal: 11.4s\tremaining: 5m 16s\n",
      "174:\tlearn: 0.4881471\ttest: 0.4948921\tbest: 0.4948910 (173)\ttotal: 11.5s\tremaining: 5m 16s\n",
      "175:\tlearn: 0.4881374\ttest: 0.4948932\tbest: 0.4948910 (173)\ttotal: 11.6s\tremaining: 5m 16s\n",
      "176:\tlearn: 0.4881329\ttest: 0.4948937\tbest: 0.4948910 (173)\ttotal: 11.6s\tremaining: 5m 16s\n",
      "177:\tlearn: 0.4881182\ttest: 0.4948917\tbest: 0.4948910 (173)\ttotal: 11.7s\tremaining: 5m 16s\n",
      "178:\tlearn: 0.4881116\ttest: 0.4948938\tbest: 0.4948910 (173)\ttotal: 11.8s\tremaining: 5m 16s\n",
      "179:\tlearn: 0.4880932\ttest: 0.4948890\tbest: 0.4948890 (179)\ttotal: 11.8s\tremaining: 5m 16s\n",
      "180:\tlearn: 0.4880769\ttest: 0.4948816\tbest: 0.4948816 (180)\ttotal: 11.9s\tremaining: 5m 16s\n",
      "181:\tlearn: 0.4880683\ttest: 0.4948791\tbest: 0.4948791 (181)\ttotal: 11.9s\tremaining: 5m 15s\n",
      "182:\tlearn: 0.4880632\ttest: 0.4948790\tbest: 0.4948790 (182)\ttotal: 12s\tremaining: 5m 15s\n",
      "183:\tlearn: 0.4880542\ttest: 0.4948752\tbest: 0.4948752 (183)\ttotal: 12s\tremaining: 5m 15s\n",
      "184:\tlearn: 0.4880416\ttest: 0.4948700\tbest: 0.4948700 (184)\ttotal: 12.1s\tremaining: 5m 15s\n",
      "185:\tlearn: 0.4880344\ttest: 0.4948734\tbest: 0.4948700 (184)\ttotal: 12.2s\tremaining: 5m 14s\n",
      "186:\tlearn: 0.4880278\ttest: 0.4948780\tbest: 0.4948700 (184)\ttotal: 12.2s\tremaining: 5m 14s\n",
      "187:\tlearn: 0.4880032\ttest: 0.4948773\tbest: 0.4948700 (184)\ttotal: 12.3s\tremaining: 5m 14s\n",
      "188:\tlearn: 0.4879847\ttest: 0.4948682\tbest: 0.4948682 (188)\ttotal: 12.3s\tremaining: 5m 14s\n",
      "189:\tlearn: 0.4879534\ttest: 0.4948549\tbest: 0.4948549 (189)\ttotal: 12.4s\tremaining: 5m 13s\n",
      "190:\tlearn: 0.4879498\ttest: 0.4948528\tbest: 0.4948528 (190)\ttotal: 12.5s\tremaining: 5m 13s\n",
      "191:\tlearn: 0.4879491\ttest: 0.4948530\tbest: 0.4948528 (190)\ttotal: 12.5s\tremaining: 5m 13s\n",
      "192:\tlearn: 0.4879416\ttest: 0.4948527\tbest: 0.4948527 (192)\ttotal: 12.6s\tremaining: 5m 12s\n",
      "193:\tlearn: 0.4879342\ttest: 0.4948515\tbest: 0.4948515 (193)\ttotal: 12.6s\tremaining: 5m 12s\n",
      "194:\tlearn: 0.4879245\ttest: 0.4948494\tbest: 0.4948494 (194)\ttotal: 12.7s\tremaining: 5m 12s\n",
      "195:\tlearn: 0.4879104\ttest: 0.4948491\tbest: 0.4948491 (195)\ttotal: 12.7s\tremaining: 5m 12s\n",
      "196:\tlearn: 0.4879003\ttest: 0.4948442\tbest: 0.4948442 (196)\ttotal: 12.8s\tremaining: 5m 11s\n",
      "197:\tlearn: 0.4878901\ttest: 0.4948409\tbest: 0.4948409 (197)\ttotal: 12.8s\tremaining: 5m 11s\n",
      "198:\tlearn: 0.4878808\ttest: 0.4948461\tbest: 0.4948409 (197)\ttotal: 12.9s\tremaining: 5m 12s\n",
      "199:\tlearn: 0.4878684\ttest: 0.4948530\tbest: 0.4948409 (197)\ttotal: 13s\tremaining: 5m 12s\n",
      "200:\tlearn: 0.4878603\ttest: 0.4948517\tbest: 0.4948409 (197)\ttotal: 13.1s\tremaining: 5m 12s\n",
      "201:\tlearn: 0.4878598\ttest: 0.4948517\tbest: 0.4948409 (197)\ttotal: 13.1s\tremaining: 5m 11s\n",
      "202:\tlearn: 0.4878583\ttest: 0.4948511\tbest: 0.4948409 (197)\ttotal: 13.2s\tremaining: 5m 11s\n",
      "203:\tlearn: 0.4878503\ttest: 0.4948540\tbest: 0.4948409 (197)\ttotal: 13.3s\tremaining: 5m 11s\n",
      "204:\tlearn: 0.4878368\ttest: 0.4948389\tbest: 0.4948389 (204)\ttotal: 13.4s\tremaining: 5m 12s\n",
      "205:\tlearn: 0.4878266\ttest: 0.4948396\tbest: 0.4948389 (204)\ttotal: 13.4s\tremaining: 5m 12s\n",
      "206:\tlearn: 0.4878238\ttest: 0.4948397\tbest: 0.4948389 (204)\ttotal: 13.5s\tremaining: 5m 12s\n",
      "207:\tlearn: 0.4878127\ttest: 0.4948370\tbest: 0.4948370 (207)\ttotal: 13.6s\tremaining: 5m 13s\n",
      "208:\tlearn: 0.4878056\ttest: 0.4948383\tbest: 0.4948370 (207)\ttotal: 13.7s\tremaining: 5m 14s\n",
      "209:\tlearn: 0.4878013\ttest: 0.4948404\tbest: 0.4948370 (207)\ttotal: 13.8s\tremaining: 5m 15s\n",
      "210:\tlearn: 0.4877896\ttest: 0.4948371\tbest: 0.4948370 (207)\ttotal: 13.9s\tremaining: 5m 15s\n",
      "211:\tlearn: 0.4877839\ttest: 0.4948366\tbest: 0.4948366 (211)\ttotal: 14s\tremaining: 5m 15s\n",
      "212:\tlearn: 0.4877779\ttest: 0.4948321\tbest: 0.4948321 (212)\ttotal: 14s\tremaining: 5m 15s\n",
      "213:\tlearn: 0.4877693\ttest: 0.4948378\tbest: 0.4948321 (212)\ttotal: 14.1s\tremaining: 5m 15s\n",
      "214:\tlearn: 0.4877513\ttest: 0.4948300\tbest: 0.4948300 (214)\ttotal: 14.2s\tremaining: 5m 15s\n",
      "215:\tlearn: 0.4877373\ttest: 0.4948301\tbest: 0.4948300 (214)\ttotal: 14.3s\tremaining: 5m 15s\n",
      "216:\tlearn: 0.4877316\ttest: 0.4948272\tbest: 0.4948272 (216)\ttotal: 14.3s\tremaining: 5m 15s\n",
      "217:\tlearn: 0.4877222\ttest: 0.4948205\tbest: 0.4948205 (217)\ttotal: 14.4s\tremaining: 5m 15s\n",
      "218:\tlearn: 0.4877066\ttest: 0.4948159\tbest: 0.4948159 (218)\ttotal: 14.4s\tremaining: 5m 15s\n",
      "219:\tlearn: 0.4876986\ttest: 0.4948154\tbest: 0.4948154 (219)\ttotal: 14.5s\tremaining: 5m 15s\n",
      "220:\tlearn: 0.4876948\ttest: 0.4948146\tbest: 0.4948146 (220)\ttotal: 14.6s\tremaining: 5m 15s\n",
      "221:\tlearn: 0.4876868\ttest: 0.4948155\tbest: 0.4948146 (220)\ttotal: 14.6s\tremaining: 5m 15s\n",
      "222:\tlearn: 0.4876727\ttest: 0.4948091\tbest: 0.4948091 (222)\ttotal: 14.7s\tremaining: 5m 15s\n",
      "223:\tlearn: 0.4876651\ttest: 0.4948110\tbest: 0.4948091 (222)\ttotal: 14.8s\tremaining: 5m 15s\n",
      "224:\tlearn: 0.4876604\ttest: 0.4948131\tbest: 0.4948091 (222)\ttotal: 14.8s\tremaining: 5m 15s\n",
      "225:\tlearn: 0.4876523\ttest: 0.4948121\tbest: 0.4948091 (222)\ttotal: 14.9s\tremaining: 5m 15s\n",
      "226:\tlearn: 0.4876408\ttest: 0.4948162\tbest: 0.4948091 (222)\ttotal: 15s\tremaining: 5m 15s\n",
      "227:\tlearn: 0.4876312\ttest: 0.4948148\tbest: 0.4948091 (222)\ttotal: 15.1s\tremaining: 5m 15s\n",
      "228:\tlearn: 0.4876171\ttest: 0.4948013\tbest: 0.4948013 (228)\ttotal: 15.1s\tremaining: 5m 15s\n",
      "229:\tlearn: 0.4876027\ttest: 0.4948005\tbest: 0.4948005 (229)\ttotal: 15.2s\tremaining: 5m 15s\n",
      "230:\tlearn: 0.4875966\ttest: 0.4948006\tbest: 0.4948005 (229)\ttotal: 15.3s\tremaining: 5m 15s\n",
      "231:\tlearn: 0.4875889\ttest: 0.4948006\tbest: 0.4948005 (229)\ttotal: 15.3s\tremaining: 5m 14s\n",
      "232:\tlearn: 0.4875862\ttest: 0.4948019\tbest: 0.4948005 (229)\ttotal: 15.4s\tremaining: 5m 14s\n",
      "233:\tlearn: 0.4875778\ttest: 0.4948021\tbest: 0.4948005 (229)\ttotal: 15.4s\tremaining: 5m 14s\n",
      "234:\tlearn: 0.4875695\ttest: 0.4948001\tbest: 0.4948001 (234)\ttotal: 15.5s\tremaining: 5m 14s\n",
      "235:\tlearn: 0.4875678\ttest: 0.4948003\tbest: 0.4948001 (234)\ttotal: 15.6s\tremaining: 5m 13s\n",
      "236:\tlearn: 0.4875612\ttest: 0.4948016\tbest: 0.4948001 (234)\ttotal: 15.6s\tremaining: 5m 13s\n",
      "237:\tlearn: 0.4875520\ttest: 0.4948010\tbest: 0.4948001 (234)\ttotal: 15.7s\tremaining: 5m 13s\n",
      "238:\tlearn: 0.4875467\ttest: 0.4948041\tbest: 0.4948001 (234)\ttotal: 15.8s\tremaining: 5m 14s\n",
      "239:\tlearn: 0.4875426\ttest: 0.4948024\tbest: 0.4948001 (234)\ttotal: 15.8s\tremaining: 5m 14s\n",
      "240:\tlearn: 0.4875204\ttest: 0.4947963\tbest: 0.4947963 (240)\ttotal: 15.9s\tremaining: 5m 14s\n",
      "241:\tlearn: 0.4875095\ttest: 0.4947863\tbest: 0.4947863 (241)\ttotal: 16s\tremaining: 5m 14s\n",
      "242:\tlearn: 0.4875013\ttest: 0.4947867\tbest: 0.4947863 (241)\ttotal: 16s\tremaining: 5m 14s\n",
      "243:\tlearn: 0.4874927\ttest: 0.4947877\tbest: 0.4947863 (241)\ttotal: 16.1s\tremaining: 5m 14s\n",
      "244:\tlearn: 0.4874842\ttest: 0.4947875\tbest: 0.4947863 (241)\ttotal: 16.2s\tremaining: 5m 13s\n",
      "245:\tlearn: 0.4874650\ttest: 0.4947883\tbest: 0.4947863 (241)\ttotal: 16.3s\tremaining: 5m 14s\n",
      "246:\tlearn: 0.4874562\ttest: 0.4947899\tbest: 0.4947863 (241)\ttotal: 16.3s\tremaining: 5m 14s\n",
      "247:\tlearn: 0.4874315\ttest: 0.4947883\tbest: 0.4947863 (241)\ttotal: 16.4s\tremaining: 5m 14s\n",
      "248:\tlearn: 0.4874307\ttest: 0.4947884\tbest: 0.4947863 (241)\ttotal: 16.5s\tremaining: 5m 14s\n",
      "249:\tlearn: 0.4874237\ttest: 0.4947876\tbest: 0.4947863 (241)\ttotal: 16.5s\tremaining: 5m 13s\n",
      "250:\tlearn: 0.4874147\ttest: 0.4947871\tbest: 0.4947863 (241)\ttotal: 16.6s\tremaining: 5m 13s\n",
      "251:\tlearn: 0.4874078\ttest: 0.4947906\tbest: 0.4947863 (241)\ttotal: 16.7s\tremaining: 5m 14s\n",
      "252:\tlearn: 0.4874068\ttest: 0.4947888\tbest: 0.4947863 (241)\ttotal: 16.8s\tremaining: 5m 15s\n",
      "253:\tlearn: 0.4873960\ttest: 0.4947892\tbest: 0.4947863 (241)\ttotal: 16.9s\tremaining: 5m 16s\n",
      "254:\tlearn: 0.4873607\ttest: 0.4947588\tbest: 0.4947588 (254)\ttotal: 17s\tremaining: 5m 16s\n",
      "255:\tlearn: 0.4873515\ttest: 0.4947481\tbest: 0.4947481 (255)\ttotal: 17.1s\tremaining: 5m 16s\n",
      "256:\tlearn: 0.4873475\ttest: 0.4947468\tbest: 0.4947468 (256)\ttotal: 17.2s\tremaining: 5m 18s\n",
      "257:\tlearn: 0.4873461\ttest: 0.4947479\tbest: 0.4947468 (256)\ttotal: 17.4s\tremaining: 5m 20s\n",
      "258:\tlearn: 0.4873380\ttest: 0.4947464\tbest: 0.4947464 (258)\ttotal: 17.7s\tremaining: 5m 23s\n",
      "259:\tlearn: 0.4873334\ttest: 0.4947471\tbest: 0.4947464 (258)\ttotal: 17.9s\tremaining: 5m 26s\n",
      "260:\tlearn: 0.4873258\ttest: 0.4947499\tbest: 0.4947464 (258)\ttotal: 18.1s\tremaining: 5m 28s\n",
      "261:\tlearn: 0.4873150\ttest: 0.4947495\tbest: 0.4947464 (258)\ttotal: 18.2s\tremaining: 5m 28s\n",
      "262:\tlearn: 0.4873049\ttest: 0.4947536\tbest: 0.4947464 (258)\ttotal: 18.3s\tremaining: 5m 29s\n",
      "263:\tlearn: 0.4873023\ttest: 0.4947537\tbest: 0.4947464 (258)\ttotal: 18.4s\tremaining: 5m 29s\n",
      "264:\tlearn: 0.4872949\ttest: 0.4947537\tbest: 0.4947464 (258)\ttotal: 18.5s\tremaining: 5m 30s\n",
      "265:\tlearn: 0.4872910\ttest: 0.4947549\tbest: 0.4947464 (258)\ttotal: 18.6s\tremaining: 5m 30s\n",
      "266:\tlearn: 0.4872885\ttest: 0.4947564\tbest: 0.4947464 (258)\ttotal: 18.6s\tremaining: 5m 30s\n",
      "267:\tlearn: 0.4872852\ttest: 0.4947558\tbest: 0.4947464 (258)\ttotal: 18.7s\tremaining: 5m 30s\n",
      "268:\tlearn: 0.4872744\ttest: 0.4947509\tbest: 0.4947464 (258)\ttotal: 18.8s\tremaining: 5m 30s\n",
      "269:\tlearn: 0.4872612\ttest: 0.4947483\tbest: 0.4947464 (258)\ttotal: 18.9s\tremaining: 5m 30s\n",
      "270:\tlearn: 0.4872572\ttest: 0.4947473\tbest: 0.4947464 (258)\ttotal: 19s\tremaining: 5m 31s\n",
      "271:\tlearn: 0.4872534\ttest: 0.4947477\tbest: 0.4947464 (258)\ttotal: 19.2s\tremaining: 5m 33s\n",
      "272:\tlearn: 0.4872497\ttest: 0.4947466\tbest: 0.4947464 (258)\ttotal: 19.2s\tremaining: 5m 33s\n",
      "273:\tlearn: 0.4872486\ttest: 0.4947457\tbest: 0.4947457 (273)\ttotal: 19.3s\tremaining: 5m 32s\n",
      "274:\tlearn: 0.4872465\ttest: 0.4947473\tbest: 0.4947457 (273)\ttotal: 19.4s\tremaining: 5m 32s\n",
      "275:\tlearn: 0.4872414\ttest: 0.4947470\tbest: 0.4947457 (273)\ttotal: 19.4s\tremaining: 5m 32s\n",
      "276:\tlearn: 0.4872203\ttest: 0.4947300\tbest: 0.4947300 (276)\ttotal: 19.6s\tremaining: 5m 33s\n",
      "277:\tlearn: 0.4872183\ttest: 0.4947310\tbest: 0.4947300 (276)\ttotal: 19.6s\tremaining: 5m 33s\n",
      "278:\tlearn: 0.4872149\ttest: 0.4947315\tbest: 0.4947300 (276)\ttotal: 19.7s\tremaining: 5m 33s\n",
      "279:\tlearn: 0.4872004\ttest: 0.4947249\tbest: 0.4947249 (279)\ttotal: 19.8s\tremaining: 5m 33s\n",
      "280:\tlearn: 0.4871941\ttest: 0.4947268\tbest: 0.4947249 (279)\ttotal: 19.9s\tremaining: 5m 34s\n",
      "281:\tlearn: 0.4871876\ttest: 0.4947251\tbest: 0.4947249 (279)\ttotal: 20s\tremaining: 5m 35s\n",
      "282:\tlearn: 0.4871671\ttest: 0.4947058\tbest: 0.4947058 (282)\ttotal: 20.2s\tremaining: 5m 36s\n",
      "283:\tlearn: 0.4871665\ttest: 0.4947064\tbest: 0.4947058 (282)\ttotal: 20.3s\tremaining: 5m 36s\n",
      "284:\tlearn: 0.4871602\ttest: 0.4947104\tbest: 0.4947058 (282)\ttotal: 20.4s\tremaining: 5m 37s\n",
      "285:\tlearn: 0.4871562\ttest: 0.4947109\tbest: 0.4947058 (282)\ttotal: 20.5s\tremaining: 5m 38s\n",
      "286:\tlearn: 0.4871549\ttest: 0.4947112\tbest: 0.4947058 (282)\ttotal: 20.6s\tremaining: 5m 38s\n",
      "287:\tlearn: 0.4871539\ttest: 0.4947113\tbest: 0.4947058 (282)\ttotal: 20.7s\tremaining: 5m 37s\n",
      "288:\tlearn: 0.4871478\ttest: 0.4947075\tbest: 0.4947058 (282)\ttotal: 20.7s\tremaining: 5m 38s\n",
      "289:\tlearn: 0.4871395\ttest: 0.4947105\tbest: 0.4947058 (282)\ttotal: 20.8s\tremaining: 5m 37s\n",
      "290:\tlearn: 0.4871304\ttest: 0.4947158\tbest: 0.4947058 (282)\ttotal: 20.9s\tremaining: 5m 38s\n",
      "291:\tlearn: 0.4871256\ttest: 0.4947193\tbest: 0.4947058 (282)\ttotal: 21.1s\tremaining: 5m 39s\n",
      "292:\tlearn: 0.4871199\ttest: 0.4947213\tbest: 0.4947058 (282)\ttotal: 21.1s\tremaining: 5m 39s\n",
      "293:\tlearn: 0.4871009\ttest: 0.4947174\tbest: 0.4947058 (282)\ttotal: 21.3s\tremaining: 5m 40s\n",
      "294:\tlearn: 0.4870828\ttest: 0.4947240\tbest: 0.4947058 (282)\ttotal: 21.3s\tremaining: 5m 40s\n",
      "295:\tlearn: 0.4870780\ttest: 0.4947218\tbest: 0.4947058 (282)\ttotal: 21.5s\tremaining: 5m 41s\n",
      "296:\tlearn: 0.4870700\ttest: 0.4947221\tbest: 0.4947058 (282)\ttotal: 21.5s\tremaining: 5m 40s\n",
      "297:\tlearn: 0.4870614\ttest: 0.4947181\tbest: 0.4947058 (282)\ttotal: 21.6s\tremaining: 5m 40s\n",
      "298:\tlearn: 0.4870526\ttest: 0.4947171\tbest: 0.4947058 (282)\ttotal: 21.7s\tremaining: 5m 40s\n",
      "299:\tlearn: 0.4870472\ttest: 0.4947191\tbest: 0.4947058 (282)\ttotal: 21.8s\tremaining: 5m 41s\n",
      "300:\tlearn: 0.4870373\ttest: 0.4947170\tbest: 0.4947058 (282)\ttotal: 22s\tremaining: 5m 43s\n",
      "301:\tlearn: 0.4870327\ttest: 0.4947172\tbest: 0.4947058 (282)\ttotal: 22.2s\tremaining: 5m 44s\n",
      "302:\tlearn: 0.4870289\ttest: 0.4947170\tbest: 0.4947058 (282)\ttotal: 22.4s\tremaining: 5m 46s\n",
      "303:\tlearn: 0.4870283\ttest: 0.4947166\tbest: 0.4947058 (282)\ttotal: 22.5s\tremaining: 5m 46s\n",
      "304:\tlearn: 0.4870241\ttest: 0.4947169\tbest: 0.4947058 (282)\ttotal: 22.6s\tremaining: 5m 48s\n",
      "305:\tlearn: 0.4870208\ttest: 0.4947164\tbest: 0.4947058 (282)\ttotal: 22.8s\tremaining: 5m 49s\n",
      "306:\tlearn: 0.4870181\ttest: 0.4947162\tbest: 0.4947058 (282)\ttotal: 23s\tremaining: 5m 51s\n",
      "307:\tlearn: 0.4870151\ttest: 0.4947185\tbest: 0.4947058 (282)\ttotal: 23.1s\tremaining: 5m 51s\n",
      "308:\tlearn: 0.4870101\ttest: 0.4947159\tbest: 0.4947058 (282)\ttotal: 23.2s\tremaining: 5m 51s\n",
      "309:\tlearn: 0.4870040\ttest: 0.4947129\tbest: 0.4947058 (282)\ttotal: 23.3s\tremaining: 5m 52s\n",
      "310:\tlearn: 0.4869952\ttest: 0.4947149\tbest: 0.4947058 (282)\ttotal: 23.4s\tremaining: 5m 52s\n",
      "311:\tlearn: 0.4869905\ttest: 0.4947151\tbest: 0.4947058 (282)\ttotal: 23.5s\tremaining: 5m 52s\n",
      "312:\tlearn: 0.4869851\ttest: 0.4947139\tbest: 0.4947058 (282)\ttotal: 23.6s\tremaining: 5m 52s\n",
      "313:\tlearn: 0.4869779\ttest: 0.4947101\tbest: 0.4947058 (282)\ttotal: 23.6s\tremaining: 5m 52s\n",
      "314:\tlearn: 0.4869750\ttest: 0.4947093\tbest: 0.4947058 (282)\ttotal: 23.6s\tremaining: 5m 51s\n",
      "315:\tlearn: 0.4869746\ttest: 0.4947089\tbest: 0.4947058 (282)\ttotal: 23.7s\tremaining: 5m 51s\n",
      "316:\tlearn: 0.4869717\ttest: 0.4947088\tbest: 0.4947058 (282)\ttotal: 23.8s\tremaining: 5m 50s\n",
      "317:\tlearn: 0.4869644\ttest: 0.4947088\tbest: 0.4947058 (282)\ttotal: 23.8s\tremaining: 5m 50s\n",
      "318:\tlearn: 0.4869618\ttest: 0.4947082\tbest: 0.4947058 (282)\ttotal: 23.9s\tremaining: 5m 50s\n",
      "319:\tlearn: 0.4869588\ttest: 0.4947108\tbest: 0.4947058 (282)\ttotal: 24s\tremaining: 5m 50s\n",
      "320:\tlearn: 0.4869498\ttest: 0.4947051\tbest: 0.4947051 (320)\ttotal: 24s\tremaining: 5m 50s\n",
      "321:\tlearn: 0.4869434\ttest: 0.4947047\tbest: 0.4947047 (321)\ttotal: 24.1s\tremaining: 5m 50s\n",
      "322:\tlearn: 0.4869201\ttest: 0.4947128\tbest: 0.4947047 (321)\ttotal: 24.2s\tremaining: 5m 50s\n",
      "323:\tlearn: 0.4869189\ttest: 0.4947131\tbest: 0.4947047 (321)\ttotal: 24.3s\tremaining: 5m 50s\n",
      "324:\tlearn: 0.4869139\ttest: 0.4947130\tbest: 0.4947047 (321)\ttotal: 24.4s\tremaining: 5m 50s\n",
      "325:\tlearn: 0.4869008\ttest: 0.4947112\tbest: 0.4947047 (321)\ttotal: 24.4s\tremaining: 5m 50s\n",
      "326:\tlearn: 0.4868996\ttest: 0.4947112\tbest: 0.4947047 (321)\ttotal: 24.5s\tremaining: 5m 49s\n",
      "327:\tlearn: 0.4868913\ttest: 0.4947072\tbest: 0.4947047 (321)\ttotal: 24.6s\tremaining: 5m 49s\n",
      "328:\tlearn: 0.4868712\ttest: 0.4946991\tbest: 0.4946991 (328)\ttotal: 24.7s\tremaining: 5m 50s\n",
      "329:\tlearn: 0.4868666\ttest: 0.4946984\tbest: 0.4946984 (329)\ttotal: 24.8s\tremaining: 5m 50s\n",
      "330:\tlearn: 0.4868585\ttest: 0.4947066\tbest: 0.4946984 (329)\ttotal: 24.9s\tremaining: 5m 51s\n",
      "331:\tlearn: 0.4868535\ttest: 0.4947043\tbest: 0.4946984 (329)\ttotal: 25s\tremaining: 5m 52s\n",
      "332:\tlearn: 0.4868516\ttest: 0.4947042\tbest: 0.4946984 (329)\ttotal: 25.1s\tremaining: 5m 52s\n",
      "333:\tlearn: 0.4868446\ttest: 0.4946995\tbest: 0.4946984 (329)\ttotal: 25.2s\tremaining: 5m 52s\n",
      "334:\tlearn: 0.4868380\ttest: 0.4947003\tbest: 0.4946984 (329)\ttotal: 25.3s\tremaining: 5m 52s\n",
      "335:\tlearn: 0.4868269\ttest: 0.4947008\tbest: 0.4946984 (329)\ttotal: 25.4s\tremaining: 5m 53s\n",
      "336:\tlearn: 0.4868177\ttest: 0.4947026\tbest: 0.4946984 (329)\ttotal: 25.6s\tremaining: 5m 53s\n",
      "337:\tlearn: 0.4868035\ttest: 0.4946992\tbest: 0.4946984 (329)\ttotal: 25.7s\tremaining: 5m 53s\n",
      "338:\tlearn: 0.4867871\ttest: 0.4946948\tbest: 0.4946948 (338)\ttotal: 25.7s\tremaining: 5m 53s\n",
      "339:\tlearn: 0.4867836\ttest: 0.4946959\tbest: 0.4946948 (338)\ttotal: 25.8s\tremaining: 5m 53s\n",
      "340:\tlearn: 0.4867687\ttest: 0.4946915\tbest: 0.4946915 (340)\ttotal: 25.9s\tremaining: 5m 53s\n",
      "341:\tlearn: 0.4867568\ttest: 0.4946976\tbest: 0.4946915 (340)\ttotal: 26s\tremaining: 5m 53s\n",
      "342:\tlearn: 0.4867562\ttest: 0.4946971\tbest: 0.4946915 (340)\ttotal: 26s\tremaining: 5m 53s\n",
      "343:\tlearn: 0.4867450\ttest: 0.4946904\tbest: 0.4946904 (343)\ttotal: 26.1s\tremaining: 5m 53s\n",
      "344:\tlearn: 0.4867428\ttest: 0.4946887\tbest: 0.4946887 (344)\ttotal: 26.2s\tremaining: 5m 53s\n",
      "345:\tlearn: 0.4867426\ttest: 0.4946884\tbest: 0.4946884 (345)\ttotal: 26.3s\tremaining: 5m 53s\n",
      "346:\tlearn: 0.4867383\ttest: 0.4946893\tbest: 0.4946884 (345)\ttotal: 26.4s\tremaining: 5m 54s\n",
      "347:\tlearn: 0.4867360\ttest: 0.4946891\tbest: 0.4946884 (345)\ttotal: 26.5s\tremaining: 5m 53s\n",
      "348:\tlearn: 0.4867336\ttest: 0.4946893\tbest: 0.4946884 (345)\ttotal: 26.5s\tremaining: 5m 53s\n",
      "349:\tlearn: 0.4867307\ttest: 0.4946890\tbest: 0.4946884 (345)\ttotal: 26.6s\tremaining: 5m 53s\n",
      "350:\tlearn: 0.4867188\ttest: 0.4946899\tbest: 0.4946884 (345)\ttotal: 26.6s\tremaining: 5m 52s\n",
      "351:\tlearn: 0.4867171\ttest: 0.4946867\tbest: 0.4946867 (351)\ttotal: 26.7s\tremaining: 5m 52s\n",
      "352:\tlearn: 0.4867120\ttest: 0.4946876\tbest: 0.4946867 (351)\ttotal: 26.8s\tremaining: 5m 52s\n",
      "353:\tlearn: 0.4867117\ttest: 0.4946874\tbest: 0.4946867 (351)\ttotal: 26.8s\tremaining: 5m 52s\n",
      "354:\tlearn: 0.4867084\ttest: 0.4946865\tbest: 0.4946865 (354)\ttotal: 26.9s\tremaining: 5m 51s\n",
      "355:\tlearn: 0.4866943\ttest: 0.4946913\tbest: 0.4946865 (354)\ttotal: 26.9s\tremaining: 5m 51s\n",
      "356:\tlearn: 0.4866879\ttest: 0.4946934\tbest: 0.4946865 (354)\ttotal: 27s\tremaining: 5m 51s\n",
      "357:\tlearn: 0.4866823\ttest: 0.4946936\tbest: 0.4946865 (354)\ttotal: 27.1s\tremaining: 5m 50s\n",
      "358:\tlearn: 0.4866797\ttest: 0.4946936\tbest: 0.4946865 (354)\ttotal: 27.1s\tremaining: 5m 50s\n",
      "359:\tlearn: 0.4866753\ttest: 0.4946938\tbest: 0.4946865 (354)\ttotal: 27.2s\tremaining: 5m 50s\n",
      "360:\tlearn: 0.4866717\ttest: 0.4946941\tbest: 0.4946865 (354)\ttotal: 27.2s\tremaining: 5m 49s\n",
      "361:\tlearn: 0.4866661\ttest: 0.4946927\tbest: 0.4946865 (354)\ttotal: 27.3s\tremaining: 5m 49s\n",
      "362:\tlearn: 0.4866618\ttest: 0.4946882\tbest: 0.4946865 (354)\ttotal: 27.3s\tremaining: 5m 49s\n",
      "363:\tlearn: 0.4866615\ttest: 0.4946882\tbest: 0.4946865 (354)\ttotal: 27.4s\tremaining: 5m 48s\n",
      "364:\tlearn: 0.4866581\ttest: 0.4946896\tbest: 0.4946865 (354)\ttotal: 27.4s\tremaining: 5m 48s\n",
      "365:\tlearn: 0.4866383\ttest: 0.4946973\tbest: 0.4946865 (354)\ttotal: 27.5s\tremaining: 5m 48s\n",
      "366:\tlearn: 0.4866372\ttest: 0.4946965\tbest: 0.4946865 (354)\ttotal: 27.5s\tremaining: 5m 47s\n",
      "367:\tlearn: 0.4866277\ttest: 0.4946983\tbest: 0.4946865 (354)\ttotal: 27.6s\tremaining: 5m 47s\n",
      "368:\tlearn: 0.4866258\ttest: 0.4946965\tbest: 0.4946865 (354)\ttotal: 27.6s\tremaining: 5m 47s\n",
      "369:\tlearn: 0.4866240\ttest: 0.4946949\tbest: 0.4946865 (354)\ttotal: 27.7s\tremaining: 5m 46s\n",
      "370:\tlearn: 0.4866140\ttest: 0.4946975\tbest: 0.4946865 (354)\ttotal: 27.8s\tremaining: 5m 46s\n",
      "371:\tlearn: 0.4866030\ttest: 0.4946971\tbest: 0.4946865 (354)\ttotal: 27.8s\tremaining: 5m 46s\n",
      "372:\tlearn: 0.4866025\ttest: 0.4946979\tbest: 0.4946865 (354)\ttotal: 27.9s\tremaining: 5m 45s\n",
      "373:\tlearn: 0.4865985\ttest: 0.4946995\tbest: 0.4946865 (354)\ttotal: 28s\tremaining: 5m 46s\n",
      "374:\tlearn: 0.4865844\ttest: 0.4946896\tbest: 0.4946865 (354)\ttotal: 28.1s\tremaining: 5m 45s\n",
      "375:\tlearn: 0.4865796\ttest: 0.4946903\tbest: 0.4946865 (354)\ttotal: 28.1s\tremaining: 5m 45s\n",
      "376:\tlearn: 0.4865725\ttest: 0.4946925\tbest: 0.4946865 (354)\ttotal: 28.2s\tremaining: 5m 45s\n",
      "377:\tlearn: 0.4865666\ttest: 0.4946921\tbest: 0.4946865 (354)\ttotal: 28.2s\tremaining: 5m 45s\n",
      "378:\tlearn: 0.4865593\ttest: 0.4946920\tbest: 0.4946865 (354)\ttotal: 28.3s\tremaining: 5m 45s\n",
      "379:\tlearn: 0.4865570\ttest: 0.4946908\tbest: 0.4946865 (354)\ttotal: 28.4s\tremaining: 5m 45s\n",
      "380:\tlearn: 0.4865518\ttest: 0.4946906\tbest: 0.4946865 (354)\ttotal: 28.5s\tremaining: 5m 44s\n",
      "381:\tlearn: 0.4865425\ttest: 0.4946899\tbest: 0.4946865 (354)\ttotal: 28.5s\tremaining: 5m 44s\n",
      "382:\tlearn: 0.4865417\ttest: 0.4946905\tbest: 0.4946865 (354)\ttotal: 28.6s\tremaining: 5m 45s\n",
      "383:\tlearn: 0.4865335\ttest: 0.4946948\tbest: 0.4946865 (354)\ttotal: 28.8s\tremaining: 5m 46s\n",
      "384:\tlearn: 0.4865281\ttest: 0.4946928\tbest: 0.4946865 (354)\ttotal: 28.9s\tremaining: 5m 45s\n",
      "385:\tlearn: 0.4865228\ttest: 0.4946961\tbest: 0.4946865 (354)\ttotal: 28.9s\tremaining: 5m 45s\n",
      "386:\tlearn: 0.4865212\ttest: 0.4946977\tbest: 0.4946865 (354)\ttotal: 29s\tremaining: 5m 45s\n",
      "387:\tlearn: 0.4865200\ttest: 0.4946986\tbest: 0.4946865 (354)\ttotal: 29s\tremaining: 5m 44s\n",
      "388:\tlearn: 0.4865176\ttest: 0.4946984\tbest: 0.4946865 (354)\ttotal: 29s\tremaining: 5m 44s\n",
      "389:\tlearn: 0.4865072\ttest: 0.4946925\tbest: 0.4946865 (354)\ttotal: 29.1s\tremaining: 5m 44s\n",
      "390:\tlearn: 0.4865004\ttest: 0.4946949\tbest: 0.4946865 (354)\ttotal: 29.2s\tremaining: 5m 44s\n",
      "391:\tlearn: 0.4864962\ttest: 0.4946951\tbest: 0.4946865 (354)\ttotal: 29.3s\tremaining: 5m 44s\n",
      "392:\tlearn: 0.4864946\ttest: 0.4946949\tbest: 0.4946865 (354)\ttotal: 29.3s\tremaining: 5m 44s\n",
      "393:\tlearn: 0.4864893\ttest: 0.4946994\tbest: 0.4946865 (354)\ttotal: 29.4s\tremaining: 5m 43s\n",
      "394:\tlearn: 0.4864868\ttest: 0.4947010\tbest: 0.4946865 (354)\ttotal: 29.5s\tremaining: 5m 43s\n",
      "395:\tlearn: 0.4864844\ttest: 0.4947014\tbest: 0.4946865 (354)\ttotal: 29.5s\tremaining: 5m 43s\n",
      "396:\tlearn: 0.4864795\ttest: 0.4947020\tbest: 0.4946865 (354)\ttotal: 29.6s\tremaining: 5m 42s\n",
      "397:\tlearn: 0.4864721\ttest: 0.4947067\tbest: 0.4946865 (354)\ttotal: 29.6s\tremaining: 5m 42s\n",
      "398:\tlearn: 0.4864691\ttest: 0.4947085\tbest: 0.4946865 (354)\ttotal: 29.7s\tremaining: 5m 41s\n",
      "399:\tlearn: 0.4864673\ttest: 0.4947078\tbest: 0.4946865 (354)\ttotal: 29.7s\tremaining: 5m 41s\n",
      "400:\tlearn: 0.4864579\ttest: 0.4947089\tbest: 0.4946865 (354)\ttotal: 29.8s\tremaining: 5m 41s\n",
      "401:\tlearn: 0.4864534\ttest: 0.4947123\tbest: 0.4946865 (354)\ttotal: 29.8s\tremaining: 5m 41s\n",
      "402:\tlearn: 0.4864431\ttest: 0.4947116\tbest: 0.4946865 (354)\ttotal: 29.9s\tremaining: 5m 40s\n",
      "403:\tlearn: 0.4864384\ttest: 0.4947109\tbest: 0.4946865 (354)\ttotal: 29.9s\tremaining: 5m 40s\n",
      "404:\tlearn: 0.4864319\ttest: 0.4947093\tbest: 0.4946865 (354)\ttotal: 30s\tremaining: 5m 40s\n",
      "405:\tlearn: 0.4864240\ttest: 0.4947149\tbest: 0.4946865 (354)\ttotal: 30.1s\tremaining: 5m 40s\n",
      "406:\tlearn: 0.4864221\ttest: 0.4947154\tbest: 0.4946865 (354)\ttotal: 30.1s\tremaining: 5m 39s\n",
      "407:\tlearn: 0.4864167\ttest: 0.4947168\tbest: 0.4946865 (354)\ttotal: 30.2s\tremaining: 5m 39s\n",
      "408:\tlearn: 0.4864113\ttest: 0.4947164\tbest: 0.4946865 (354)\ttotal: 30.2s\tremaining: 5m 39s\n",
      "409:\tlearn: 0.4864087\ttest: 0.4947162\tbest: 0.4946865 (354)\ttotal: 30.3s\tremaining: 5m 38s\n",
      "410:\tlearn: 0.4864069\ttest: 0.4947168\tbest: 0.4946865 (354)\ttotal: 30.3s\tremaining: 5m 38s\n",
      "411:\tlearn: 0.4864008\ttest: 0.4947171\tbest: 0.4946865 (354)\ttotal: 30.4s\tremaining: 5m 38s\n",
      "412:\tlearn: 0.4863980\ttest: 0.4947171\tbest: 0.4946865 (354)\ttotal: 30.4s\tremaining: 5m 37s\n",
      "413:\tlearn: 0.4863885\ttest: 0.4947224\tbest: 0.4946865 (354)\ttotal: 30.5s\tremaining: 5m 37s\n",
      "414:\tlearn: 0.4863861\ttest: 0.4947246\tbest: 0.4946865 (354)\ttotal: 30.5s\tremaining: 5m 37s\n",
      "415:\tlearn: 0.4863711\ttest: 0.4947116\tbest: 0.4946865 (354)\ttotal: 30.6s\tremaining: 5m 37s\n",
      "416:\tlearn: 0.4863634\ttest: 0.4947124\tbest: 0.4946865 (354)\ttotal: 30.7s\tremaining: 5m 36s\n",
      "417:\tlearn: 0.4863521\ttest: 0.4947148\tbest: 0.4946865 (354)\ttotal: 30.7s\tremaining: 5m 36s\n",
      "418:\tlearn: 0.4863479\ttest: 0.4947141\tbest: 0.4946865 (354)\ttotal: 30.8s\tremaining: 5m 36s\n",
      "419:\tlearn: 0.4863327\ttest: 0.4947084\tbest: 0.4946865 (354)\ttotal: 30.8s\tremaining: 5m 36s\n",
      "420:\tlearn: 0.4863277\ttest: 0.4947106\tbest: 0.4946865 (354)\ttotal: 30.9s\tremaining: 5m 35s\n",
      "421:\tlearn: 0.4863198\ttest: 0.4947259\tbest: 0.4946865 (354)\ttotal: 30.9s\tremaining: 5m 35s\n",
      "422:\tlearn: 0.4863163\ttest: 0.4947254\tbest: 0.4946865 (354)\ttotal: 31s\tremaining: 5m 35s\n",
      "423:\tlearn: 0.4863069\ttest: 0.4947253\tbest: 0.4946865 (354)\ttotal: 31.1s\tremaining: 5m 35s\n",
      "424:\tlearn: 0.4863043\ttest: 0.4947249\tbest: 0.4946865 (354)\ttotal: 31.1s\tremaining: 5m 35s\n",
      "425:\tlearn: 0.4863001\ttest: 0.4947242\tbest: 0.4946865 (354)\ttotal: 31.2s\tremaining: 5m 34s\n",
      "426:\tlearn: 0.4862966\ttest: 0.4947170\tbest: 0.4946865 (354)\ttotal: 31.3s\tremaining: 5m 34s\n",
      "427:\tlearn: 0.4862955\ttest: 0.4947167\tbest: 0.4946865 (354)\ttotal: 31.3s\tremaining: 5m 34s\n",
      "428:\tlearn: 0.4862927\ttest: 0.4947176\tbest: 0.4946865 (354)\ttotal: 31.4s\tremaining: 5m 34s\n",
      "429:\tlearn: 0.4862889\ttest: 0.4947163\tbest: 0.4946865 (354)\ttotal: 31.4s\tremaining: 5m 33s\n",
      "430:\tlearn: 0.4862850\ttest: 0.4947173\tbest: 0.4946865 (354)\ttotal: 31.5s\tremaining: 5m 33s\n",
      "431:\tlearn: 0.4862729\ttest: 0.4947217\tbest: 0.4946865 (354)\ttotal: 31.5s\tremaining: 5m 33s\n",
      "432:\tlearn: 0.4862702\ttest: 0.4947225\tbest: 0.4946865 (354)\ttotal: 31.6s\tremaining: 5m 33s\n",
      "433:\tlearn: 0.4862698\ttest: 0.4947226\tbest: 0.4946865 (354)\ttotal: 31.6s\tremaining: 5m 32s\n",
      "434:\tlearn: 0.4862670\ttest: 0.4947226\tbest: 0.4946865 (354)\ttotal: 31.7s\tremaining: 5m 32s\n",
      "435:\tlearn: 0.4862557\ttest: 0.4947165\tbest: 0.4946865 (354)\ttotal: 31.8s\tremaining: 5m 32s\n",
      "436:\tlearn: 0.4862463\ttest: 0.4947162\tbest: 0.4946865 (354)\ttotal: 31.8s\tremaining: 5m 32s\n",
      "437:\tlearn: 0.4862338\ttest: 0.4947155\tbest: 0.4946865 (354)\ttotal: 31.9s\tremaining: 5m 32s\n",
      "438:\tlearn: 0.4862274\ttest: 0.4947157\tbest: 0.4946865 (354)\ttotal: 32s\tremaining: 5m 32s\n",
      "439:\tlearn: 0.4862215\ttest: 0.4947172\tbest: 0.4946865 (354)\ttotal: 32s\tremaining: 5m 31s\n",
      "440:\tlearn: 0.4862158\ttest: 0.4947158\tbest: 0.4946865 (354)\ttotal: 32.1s\tremaining: 5m 31s\n",
      "441:\tlearn: 0.4862141\ttest: 0.4947155\tbest: 0.4946865 (354)\ttotal: 32.1s\tremaining: 5m 31s\n",
      "442:\tlearn: 0.4862070\ttest: 0.4947160\tbest: 0.4946865 (354)\ttotal: 32.2s\tremaining: 5m 31s\n",
      "443:\tlearn: 0.4861951\ttest: 0.4947151\tbest: 0.4946865 (354)\ttotal: 32.2s\tremaining: 5m 30s\n",
      "444:\tlearn: 0.4861905\ttest: 0.4947150\tbest: 0.4946865 (354)\ttotal: 32.3s\tremaining: 5m 30s\n",
      "445:\tlearn: 0.4861900\ttest: 0.4947153\tbest: 0.4946865 (354)\ttotal: 32.4s\tremaining: 5m 30s\n",
      "446:\tlearn: 0.4861847\ttest: 0.4947174\tbest: 0.4946865 (354)\ttotal: 32.4s\tremaining: 5m 30s\n",
      "447:\tlearn: 0.4861785\ttest: 0.4947212\tbest: 0.4946865 (354)\ttotal: 32.4s\tremaining: 5m 29s\n",
      "448:\tlearn: 0.4861767\ttest: 0.4947197\tbest: 0.4946865 (354)\ttotal: 32.5s\tremaining: 5m 29s\n",
      "449:\tlearn: 0.4861728\ttest: 0.4947193\tbest: 0.4946865 (354)\ttotal: 32.5s\tremaining: 5m 29s\n",
      "450:\tlearn: 0.4861654\ttest: 0.4947438\tbest: 0.4946865 (354)\ttotal: 32.6s\tremaining: 5m 28s\n",
      "451:\tlearn: 0.4861626\ttest: 0.4947446\tbest: 0.4946865 (354)\ttotal: 32.7s\tremaining: 5m 28s\n",
      "452:\tlearn: 0.4861509\ttest: 0.4947480\tbest: 0.4946865 (354)\ttotal: 32.7s\tremaining: 5m 28s\n",
      "453:\tlearn: 0.4861330\ttest: 0.4947575\tbest: 0.4946865 (354)\ttotal: 32.8s\tremaining: 5m 28s\n",
      "454:\tlearn: 0.4861329\ttest: 0.4947576\tbest: 0.4946865 (354)\ttotal: 32.8s\tremaining: 5m 27s\n",
      "Stopped by overfitting detector  (100 iterations wait)\n",
      "\n",
      "bestTest = 0.4946865149\n",
      "bestIteration = 354\n",
      "\n",
      "Shrink model to first 355 iterations.\n"
     ]
    },
    {
     "data": {
      "text/plain": [
       "<catboost.core.CatBoostClassifier at 0x7fe1eb3eef40>"
      ]
     },
     "execution_count": 77,
     "metadata": {},
     "output_type": "execute_result"
    }
   ],
   "source": [
    "cbm_classifier.fit(\n",
    "    X_train, y_train,\n",
    "    eval_set=(X_test, y_test),\n",
    "    early_stopping_rounds = 100, # to avoid overfitting,\n",
    "    cat_features = CATEGORICAL_COLS \n",
    ")"
   ]
  },
  {
   "attachments": {},
   "cell_type": "markdown",
   "metadata": {},
   "source": [
    "## 2.5.3. Model Evaluation"
   ]
  },
  {
   "attachments": {},
   "cell_type": "markdown",
   "metadata": {},
   "source": [
    "Let's make basic shapley plot to investigate feature importance"
   ]
  },
  {
   "cell_type": "code",
   "execution_count": 78,
   "metadata": {},
   "outputs": [],
   "source": [
    "explainer = shap.TreeExplainer(cbm_classifier)\n",
    "shap_values = explainer.shap_values(X_train)"
   ]
  },
  {
   "cell_type": "code",
   "execution_count": 79,
   "metadata": {},
   "outputs": [
    {
     "data": {
      "image/png": "[encoded data removed]",
      "text/plain": [
       "<Figure size 800x510 with 1 Axes>"
      ]
     },
     "metadata": {},
     "output_type": "display_data"
    }
   ],
   "source": [
    "shap.summary_plot(shap_values, X_train, show = False, color_bar = False)"
   ]
  },
  {
   "cell_type": "code",
   "execution_count": 80,
   "metadata": {},
   "outputs": [],
   "source": [
    "# predictions on test\n",
    "y_test_pred = cbm_classifier.predict_proba(X_test)"
   ]
  },
  {
   "cell_type": "code",
   "execution_count": 81,
   "metadata": {},
   "outputs": [
    {
     "name": "stdout",
     "output_type": "stream",
     "text": [
      "ROC AUC score = 0.68\n"
     ]
    }
   ],
   "source": [
    "from sklearn.metrics import roc_auc_score\n",
    "\n",
    "print(f\"ROC AUC score = {roc_auc_score(y_test, y_test_pred[:, 1]):.2f}\")"
   ]
  },
  {
   "attachments": {},
   "cell_type": "markdown",
   "metadata": {},
   "source": [
    "# TODO\n",
    "- Estimate the performance of the model on the test set using Precision@K, MRR, MAP@K: LightFM seperately, LightFM + Ranker"
   ]
  },
  {
   "cell_type": "code",
   "execution_count": 82,
   "metadata": {},
   "outputs": [],
   "source": [
    "def precission_at_k(y_true: np.array, y_pred: np.array, k: int) -> float:\n",
    "    \"\"\"\n",
    "    y_true: true labels\n",
    "    y_pred: predicted lables\n",
    "    k: cutoff length\n",
    "    \"\"\"\n",
    "\n",
    "    if sum(y_true) == 0:\n",
    "        return -1\n",
    "\n",
    "    argsort = np.argsort(y_pred)[::-1]\n",
    "    y_true_sorted = y_true[argsort]\n",
    "    true_positives = y_true_sorted[:k].sum()\n",
    "\n",
    "    return true_positives / k"
   ]
  },
  {
   "cell_type": "code",
   "execution_count": 83,
   "metadata": {},
   "outputs": [],
   "source": [
    "def reciprocal_rank(y_true: np.array, y_pred: np.array) -> float:\n",
    "    \n",
    "    argsort = np.argsort(y_pred)[::-1]\n",
    "    y_true_sorted = y_true[argsort]\n",
    "    for i, val in enumerate(y_true_sorted, 1):     \n",
    "        if val == 1:\n",
    "            return 1 / i\n",
    "    return 0"
   ]
  },
  {
   "cell_type": "code",
   "execution_count": 84,
   "metadata": {},
   "outputs": [],
   "source": [
    "def average_precision(y_true: np.array, y_pred: np.array, k: int) -> float:\n",
    "\n",
    "    if sum(y_true) == 0:\n",
    "        return -1\n",
    "\n",
    "    if len(y_pred) > k:\n",
    "        y_pred = y_pred[:k]\n",
    "\n",
    "    argsort = np.argsort(y_pred)[::-1]\n",
    "    y_true_sorted = y_true[argsort]\n",
    "\n",
    "    num_hits = 0\n",
    "    score = 0\n",
    "\n",
    "    for i, p in enumerate(y_true_sorted, 1):\n",
    "        if p == 1:\n",
    "            num_hits += 1\n",
    "            score += num_hits / i\n",
    "    if num_hits == 0:\n",
    "        output = 0\n",
    "    \n",
    "    else:\n",
    "        output = score / min(len(y_true), k)\n",
    "\n",
    "    return output"
   ]
  },
  {
   "cell_type": "code",
   "execution_count": 85,
   "metadata": {},
   "outputs": [],
   "source": [
    "y_pred = test_preds.groupby('user_id')['rank'].apply(lambda x: np.array(x))\n",
    "y_true = pd.merge(test_preds, interactions, how = 'left', on = ['user_id', 'item_id'])\n",
    "y_true['last_watch_dt'] = y_true['last_watch_dt'].fillna(0)\n",
    "y_true['y_true'] = y_true['last_watch_dt'].apply(lambda x: 1 if x!=0 else 0)\n",
    "y_true = y_true.groupby('user_id')['y_true'].apply(lambda x: np.array(x))"
   ]
  },
  {
   "attachments": {},
   "cell_type": "markdown",
   "metadata": {},
   "source": [
    "Evaluating LightFm without ranking"
   ]
  },
  {
   "cell_type": "code",
   "execution_count": 86,
   "metadata": {},
   "outputs": [
    {
     "name": "stdout",
     "output_type": "stream",
     "text": [
      "0.1360766621297646\n"
     ]
    }
   ],
   "source": [
    "x = []\n",
    "for v, i in zip(y_true, y_pred):\n",
    "    x.append(precission_at_k(v,i,5))\n",
    "mean = np.mean(x)\n",
    "print(mean)   "
   ]
  },
  {
   "cell_type": "code",
   "execution_count": 87,
   "metadata": {},
   "outputs": [
    {
     "ename": "NameError",
     "evalue": "name 'ap_10' is not defined",
     "output_type": "error",
     "traceback": [
      "\u001b[0;31m---------------------------------------------------------------------------\u001b[0m",
      "\u001b[0;31mNameError\u001b[0m                                 Traceback (most recent call last)",
      "\u001b[0;32m/var/folders/bd/qxrpmdtn5lg899jdcc21z8j00000gn/T/ipykernel_17439/2889086275.py\u001b[0m in \u001b[0;36m<module>\u001b[0;34m\u001b[0m\n\u001b[1;32m      2\u001b[0m \u001b[0;32mfor\u001b[0m \u001b[0mtrue\u001b[0m\u001b[0;34m,\u001b[0m \u001b[0mpred\u001b[0m \u001b[0;32min\u001b[0m \u001b[0mzip\u001b[0m\u001b[0;34m(\u001b[0m\u001b[0my_true\u001b[0m\u001b[0;34m,\u001b[0m \u001b[0my_pred\u001b[0m\u001b[0;34m)\u001b[0m\u001b[0;34m:\u001b[0m\u001b[0;34m\u001b[0m\u001b[0;34m\u001b[0m\u001b[0m\n\u001b[1;32m      3\u001b[0m     \u001b[0mx\u001b[0m\u001b[0;34m.\u001b[0m\u001b[0mappend\u001b[0m\u001b[0;34m(\u001b[0m\u001b[0maverage_precision\u001b[0m\u001b[0;34m(\u001b[0m\u001b[0mtrue\u001b[0m\u001b[0;34m,\u001b[0m \u001b[0mpred\u001b[0m\u001b[0;34m,\u001b[0m \u001b[0;36m10\u001b[0m\u001b[0;34m)\u001b[0m\u001b[0;34m)\u001b[0m\u001b[0;34m\u001b[0m\u001b[0;34m\u001b[0m\u001b[0m\n\u001b[0;32m----> 4\u001b[0;31m \u001b[0mmean\u001b[0m \u001b[0;34m=\u001b[0m \u001b[0mnp\u001b[0m\u001b[0;34m.\u001b[0m\u001b[0mmean\u001b[0m\u001b[0;34m(\u001b[0m\u001b[0map_10\u001b[0m\u001b[0;34m)\u001b[0m\u001b[0;34m\u001b[0m\u001b[0;34m\u001b[0m\u001b[0m\n\u001b[0m\u001b[1;32m      5\u001b[0m \u001b[0mprint\u001b[0m\u001b[0;34m(\u001b[0m\u001b[0mmean\u001b[0m\u001b[0;34m)\u001b[0m\u001b[0;34m\u001b[0m\u001b[0;34m\u001b[0m\u001b[0m\n",
      "\u001b[0;31mNameError\u001b[0m: name 'ap_10' is not defined"
     ]
    }
   ],
   "source": [
    "x = []\n",
    "for true, pred in zip(y_true, y_pred):\n",
    "    x.append(average_precision(true, pred, 10))\n",
    "mean = np.mean(ap_10)\n",
    "print(mean)"
   ]
  },
  {
   "cell_type": "code",
   "execution_count": null,
   "metadata": {},
   "outputs": [],
   "source": [
    "x = []\n",
    "for true, pred in zip(y_true, y_pred):\n",
    "    x.append(reciprocal_rank(true, pred))\n",
    "mean = np.mean(x)\n",
    "print(mean)"
   ]
  },
  {
   "attachments": {},
   "cell_type": "markdown",
   "metadata": {},
   "source": [
    "With Ranker"
   ]
  },
  {
   "cell_type": "code",
   "execution_count": null,
   "metadata": {},
   "outputs": [],
   "source": [
    "cbm_test_set['pred'] = y_test_pred[:,1]"
   ]
  },
  {
   "cell_type": "code",
   "execution_count": null,
   "metadata": {},
   "outputs": [],
   "source": [
    "y_pred = cbm_test_set.groupby('user_id')['pred']\n",
    "y_pred = y_pred.apply(lambda x: np.array(x))\n",
    "y_true = cbm_test_set.groupby('user_id')['target']\n",
    "y_true = y_true.apply(lambda x: np.array(x))"
   ]
  },
  {
   "cell_type": "code",
   "execution_count": null,
   "metadata": {},
   "outputs": [],
   "source": [
    "x = []\n",
    "for v, i  in zip(y_true, y_pred):\n",
    "    x.append(precission_at_k(v, i, 10))\n",
    "mean = np.mean(x)\n",
    "mean"
   ]
  },
  {
   "cell_type": "code",
   "execution_count": null,
   "metadata": {},
   "outputs": [],
   "source": [
    "x = []\n",
    "for v, i in zip(y_true, y_pred):\n",
    "    x.append(average_precision(v, i, 10))\n",
    "mean = np.mean(x)\n",
    "print(mean)"
   ]
  },
  {
   "cell_type": "code",
   "execution_count": null,
   "metadata": {},
   "outputs": [],
   "source": [
    "x = []\n",
    "for v, i in zip(y_true, y_pred):\n",
    "    x.append(reciprocal_rank(v, i))\n",
    "mean = np.mean(x)\n",
    "print(mean)\n"
   ]
  },
  {
   "cell_type": "code",
   "execution_count": null,
   "metadata": {},
   "outputs": [],
   "source": []
  }
 ],
 "metadata": {
  "kernelspec": {
   "display_name": "base",
   "language": "python",
   "name": "python3"
  },
  "language_info": {
   "codemirror_mode": {
    "name": "ipython",
    "version": 3
   },
   "file_extension": ".py",
   "mimetype": "text/x-python",
   "name": "python",
   "nbconvert_exporter": "python",
   "pygments_lexer": "ipython3",
   "version": "3.9.13"
  },
  "orig_nbformat": 4,
  "vscode": {
   "interpreter": {
    "hash": "fc9c842d968df1461b06b8dd0e34a12d13cc0ea637ec5e78b840f432e4fd3660"
   }
  }
 },
 "nbformat": 4,
 "nbformat_minor": 2
}
